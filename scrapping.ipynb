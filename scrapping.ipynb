{
 "cells": [
  {
   "cell_type": "code",
   "execution_count": 141,
   "metadata": {},
   "outputs": [
    {
     "name": "stdout",
     "output_type": "stream",
     "text": [
      "This is all about the Fake News Detection model..\n"
     ]
    }
   ],
   "source": [
    "print(\"This is all about the Fake News Detection model..\")"
   ]
  },
  {
   "cell_type": "code",
   "execution_count": null,
   "metadata": {},
   "outputs": [],
   "source": [
    "# scrapping of Fakenews column from the dainik bhashkar \n",
    "# we will procecced to mannual scapping since the api is unablabe to access \n",
    "# using the beautifull soup and seleinium \n"
   ]
  },
  {
   "cell_type": "code",
   "execution_count": 48,
   "metadata": {},
   "outputs": [],
   "source": [
    "import pandas as pd\n",
    "import requests\n",
    "from bs4 import BeautifulSoup\n",
    "from selenium import webdriver #for the scrolldown of web page.\n",
    "import time\n",
    "import pickle\n"
   ]
  },
  {
   "cell_type": "code",
   "execution_count": null,
   "metadata": {},
   "outputs": [],
   "source": [
    "from selenium.webdriver.edge.service import Service\n",
    "\n",
    "# Replace 'path_to_webdriver' with the path to your downloaded Edge WebDriver executable\n",
    "service = Service(executable_path=\"D:\\OneDrive\\Documents\\edgedriver_win64\\msedgedriver.exe\")\n",
    "driver = webdriver.Edge(service=service)\n",
    "url = \"https://www.bhaskar.com/no-fake-news/\"\n",
    "driver.get(url)\n",
    "\n",
    "\n",
    "# Scroll multiple times to load more content\n",
    "scroll_pause_time = 5  # Pause between scrolls\n",
    "scroll_up_amount=1000\n",
    "time.sleep(2)\n",
    "\n",
    "\n",
    "num_scrolls = 2\n",
    "driver.execute_script(\"window.scrollTo(0, 1000);\")\n",
    "time.sleep(2)\n",
    "for i in range(num_scrolls):\n",
    "     # Scroll to the bottom of the page\n",
    "    driver.execute_script(\"window.scrollTo(0, document.body.scrollHeight);\")\n",
    "    time.sleep(scroll_pause_time)  # Wait for new content to load\n",
    "    \n",
    "    # Scroll up by a specific pixel amount\n",
    "    current_position = driver.execute_script(\"return window.pageYOffset;\")\n",
    "    target_position = current_position - scroll_up_amount\n",
    "    driver.execute_script(f\"window.scrollTo(0, {target_position});\")\n",
    "    time.sleep(scroll_pause_time)  # Wait for content to load"
   ]
  },
  {
   "cell_type": "code",
   "execution_count": null,
   "metadata": {},
   "outputs": [],
   "source": []
  },
  {
   "cell_type": "code",
   "execution_count": null,
   "metadata": {},
   "outputs": [
    {
     "name": "stdout",
     "output_type": "stream",
     "text": [
      "396\n"
     ]
    }
   ],
   "source": [
    "\n",
    "soup = BeautifulSoup(driver.page_source, 'html.parser')\n",
    "# print(soup)\n",
    "articles_heading = soup.find_all('li', class_='c7ff6507 db9a2680')\n",
    "print(len(articles_heading))\n",
    "links=[]\n",
    "\n",
    "for articles in articles_heading:\n",
    "    \n",
    "    url=articles.find('a').get('href')\n",
    "    links.append(\"https://www.bhaskar.com\"+url)"
   ]
  },
  {
   "cell_type": "code",
   "execution_count": 51,
   "metadata": {},
   "outputs": [
    {
     "data": {
      "text/plain": [
       "['https://www.bhaskar.com/no-fake-news/news/donald-trump-pandit-white-house-viral-photo-exposed-133932344.html',\n",
       " 'https://www.bhaskar.com/no-fake-news/news/donald-trump-pandit-white-house-viral-photo-exposed-133932344.html',\n",
       " 'https://www.bhaskar.com/no-fake-news/news/donald-trump-victory-speech-viral-video-pm-narendra-modi-us-election-133921224.html',\n",
       " 'https://www.bhaskar.com/no-fake-news/news/donald-trump-victory-speech-viral-video-pm-narendra-modi-us-election-133921224.html',\n",
       " 'https://www.bhaskar.com/no-fake-news/news/after-the-india-china-agreement-did-the-soldiers-of-both-the-countries-chant-jai-shri-ram-on-the-lac-know-the-truth-of-the-viral-video-133867474.html',\n",
       " 'https://www.bhaskar.com/no-fake-news/news/after-the-india-china-agreement-did-the-soldiers-of-both-the-countries-chant-jai-shri-ram-on-the-lac-know-the-truth-of-the-viral-video-133867474.html',\n",
       " 'https://www.bhaskar.com/no-fake-news/news/did-the-chinese-president-refuse-to-shake-hands-with-pm-modi-know-the-truth-of-the-viral-video-133857384.html',\n",
       " 'https://www.bhaskar.com/no-fake-news/news/did-people-teach-a-lesson-to-the-karni-sena-president-who-demanded-lawrence-bishnois-encounter-know-the-truth-133851937.html',\n",
       " 'https://www.bhaskar.com/no-fake-news/news/india-canada-issue-canara-bank-protest-controversy-exposed-133820313.html',\n",
       " 'https://www.bhaskar.com/no-fake-news/news/salman-khan-lawrence-bishnoi-video-exposed-133814531.html',\n",
       " 'https://www.bhaskar.com/no-fake-news/news/lawrence-bishnoi-pappu-yadav-viral-video-exposed-133809535.html',\n",
       " 'https://www.bhaskar.com/local/punjab/jalandhar/news/gangster-lawrence-bishnoi-shayari-video-truth-133808477.html',\n",
       " 'https://www.bhaskar.com/no-fake-news/news/israeli-military-base-hezbollah-drone-attack-herzi-halevi-death-133804430.html',\n",
       " 'https://www.bhaskar.com/entertainment/bollywood/news/salman-khan-aniruddhacharya-viral-photo-controversy-bigg-boss-18-133804196.html',\n",
       " 'https://www.bhaskar.com/no-fake-news/news/did-hindus-surround-the-mosque-for-chanting-pakistan-zindabad-slogans-know-the-truth-of-the-viral-video-133794682.html',\n",
       " 'https://www.bhaskar.com/no-fake-news/news/did-deepender-singh-hooda-get-emotional-after-congress-defeat-in-haryana-know-the-truth-of-the-viral-video-133777507.html',\n",
       " 'https://www.bhaskar.com/no-fake-news/news/boat-capsized-in-goa-23-dead-check-reality-of-viral-video-133771150.html',\n",
       " 'https://www.bhaskar.com/no-fake-news/news/are-the-children-brought-from-bangladesh-being-spread-across-the-country-know-the-truth-of-the-viral-video-133765950.html',\n",
       " 'https://www.bhaskar.com/no-fake-news/news/palestine-indian-flag-video-exposed-israeli-army-firing-triranga-133764963.html',\n",
       " 'https://www.bhaskar.com/no-fake-news/news/video-of-911-attacks-in-america-is-being-shared-as-that-of-israel-133748890.html',\n",
       " 'https://www.bhaskar.com/no-fake-news/news/was-netanyahu-seen-running-away-to-save-his-life-after-irans-missile-attack-know-the-truth-133737737.html',\n",
       " 'https://www.bhaskar.com/no-fake-news/news/fake-news-of-death-of-mahant-shri-nritya-gopal-das-goes-viral-on-social-media-133738166.html',\n",
       " 'https://www.bhaskar.com/no-fake-news/news/israel-lebanon-attack-video-exposed-hezbollah-133732154.html',\n",
       " 'https://www.bhaskar.com/no-fake-news/news/israel-air-strike-hezbollah-chief-hassan-nasrallah-dead-body-controversy-133726943.html',\n",
       " 'https://www.bhaskar.com/no-fake-news/news/video-of-a-cable-bridge-in-the-name-of-jammu-and-kashmir-goes-viral-know-the-truth-133717231.html',\n",
       " 'https://www.bhaskar.com/no-fake-news/news/video-goes-viral-in-the-name-of-train-jihad-know-the-truth-behind-the-claim-133705759.html',\n",
       " 'https://www.bhaskar.com/no-fake-news/news/video-of-pope-francis-east-timor-visit-viral-as-aimims-tiranga-rally-with-communal-claim-133700853.html',\n",
       " 'https://www.bhaskar.com/no-fake-news/news/dehradun-express-rampur-naini-doon-train-derailment-conspiracy-133689744.html',\n",
       " 'https://www.bhaskar.com/no-fake-news/news/video-of-a-youth-being-beaten-up-goes-viral-as-casteism-know-the-truth-133669309.html',\n",
       " 'https://www.bhaskar.com/no-fake-news/news/us-guatemala-vs-india-pm-modi-modi-ji-technology-viral-video-exposed-133663025.html',\n",
       " 'https://www.bhaskar.com/no-fake-news/news/karnataka-ganesh-ji-arrest-video-controversy-bjp-congress-133657785.html',\n",
       " 'https://www.bhaskar.com/no-fake-news/news/india-bangladesh-viral-video-exposed-muslim-133642489.html',\n",
       " 'https://www.bhaskar.com/no-fake-news/news/bangladesh-violence-viral-video-hindu-girls-beaten-133637136.html',\n",
       " 'https://www.bhaskar.com/no-fake-news/news/claim-chandrababu-naidu-is-separating-from-nda-alliance-news-from-2018-is-being-shared-as-recent-133632438.html',\n",
       " 'https://www.bhaskar.com/no-fake-news/news/has-the-statue-of-unity-developed-cracks-know-the-truth-behind-the-viral-photo-133616539.html',\n",
       " 'https://www.bhaskar.com/no-fake-news/news/rail-jihad-viral-video-india-pakistan-train-derailment-conspiracy-133563884.html',\n",
       " 'https://www.bhaskar.com/no-fake-news/news/a-school-girl-who-went-to-get-recharge-done-was-mistreated-133585233.html',\n",
       " 'https://www.bhaskar.com/no-fake-news/news/electricity-theft-bijli-chori-viral-video-exposed-employees-133584228.html',\n",
       " 'https://www.bhaskar.com/no-fake-news/news/video-of-rss-march-goes-viral-claim-sangh-was-seen-in-active-mode-in-haryana-know-the-truth-133579837.html',\n",
       " 'https://www.bhaskar.com/no-fake-news/news/video-viral-in-the-name-of-love-jihad-claim-hindu-girl-brutally-beaten-by-muslim-lover-know-the-truth-133557762.html',\n",
       " 'https://www.bhaskar.com/no-fake-news/news/bangladesh-flooding-crisis-iskcon-temple-viral-video-hindu-mandir-attack-133547571.html',\n",
       " 'https://www.bhaskar.com/no-fake-news/news/bangladesh-hindu-teacher-viral-video-exposed-muslim-133527788.html',\n",
       " 'https://www.bhaskar.com/no-fake-news/news/did-the-rape-victims-mother-shoot-the-culprit-133517644.html',\n",
       " 'https://www.bhaskar.com/no-fake-news/news/fact-check-muslim-man-attacks-pandit-in-mumbai-133506772.html',\n",
       " 'https://www.bhaskar.com/no-fake-news/news/bangladesh-violence-viral-video-hindu-muslim-attacks-133490386.html',\n",
       " 'https://www.bhaskar.com/no-fake-news/news/rajasthan-congress-ex-mla-viral-video-exposed-133482487.html',\n",
       " 'https://www.bhaskar.com/no-fake-news/news/video-viral-as-bangladesh-violence-claim-extremists-forced-resignations-from-government-hindu-officials-know-the-truth-133477848.html',\n",
       " 'https://www.bhaskar.com/entertainment/bollywood/news/aishwarya-rai-abhishek-bachchan-divorce-deepfake-video-goes-viral-133461670.html',\n",
       " 'https://www.bhaskar.com/no-fake-news/news/did-extremists-attack-a-hindu-village-in-bangladesh-claim-hindu-man-jumped-into-pond-to-save-his-life-know-the-truth-133456987.html',\n",
       " 'https://www.bhaskar.com/no-fake-news/news/video-viral-as-bangladesh-violence-claim-hindu-girl-was-tortured-by-extremists-by-tying-her-hands-and-legs-know-the-truth-133451775.html',\n",
       " 'https://www.bhaskar.com/no-fake-news/news/viral-video-of-bangladesh-violence-claim-hindu-temple-was-set-on-fire-by-protesters-know-the-truth-133446162.html',\n",
       " 'https://www.bhaskar.com/no-fake-news/news/video-of-house-being-set-on-fire-goes-viral-with-communal-angle-133440747.html',\n",
       " 'https://www.bhaskar.com/no-fake-news/news/vande-bharat-train-local-train-viral-video-west-bengal-133419752.html',\n",
       " 'https://www.bhaskar.com/no-fake-news/news/hamas-chief-ismail-haniyeh-viral-video-israel-middle-east-crisis-133419553.html',\n",
       " 'https://www.bhaskar.com/no-fake-news/news/rahul-gandhi-viral-video-hindu-bjp-loktantra-ka-cheerharan-133403433.html',\n",
       " 'https://www.bhaskar.com/no-fake-news/news/video-viral-in-the-name-of-spit-jihad-133383553.html',\n",
       " 'https://www.bhaskar.com/no-fake-news/news/video-of-train-accident-goes-viral-133372783.html',\n",
       " 'https://www.bhaskar.com/no-fake-news/news/shahrukh-khans-photo-with-youtuber-dhruv-rathi-goes-viral-133351992.html',\n",
       " 'https://www.bhaskar.com/no-fake-news/news/doda-terror-attack-exposed-dsp-sheikh-adil-mushtaq-controversy-133351760.html',\n",
       " 'https://www.bhaskar.com/no-fake-news/news/did-the-congress-mp-apologize-to-muslims-by-holding-their-ears-133346460.html',\n",
       " 'https://www.bhaskar.com/no-fake-news/news/us-ex-president-donald-trump-election-rally-firing-viral-photo-133324532.html',\n",
       " 'https://www.bhaskar.com/no-fake-news/news/smriti-irani-viral-video-kurkure-amethi-bjp-133310686.html',\n",
       " 'https://www.bhaskar.com/no-fake-news/news/lewd-remarks-against-smriti-singh-wife-of-martyr-captain-anshuman-singh-133305766.html',\n",
       " 'https://www.bhaskar.com/no-fake-news/news/nirmala-sitharaman-deepfake-video-gst-tax-budget-133295590.html',\n",
       " 'https://www.bhaskar.com/no-fake-news/news/peoples-anger-against-rahul-gandhi-133281269.html',\n",
       " 'https://www.bhaskar.com/no-fake-news/news/sonia-gandhi-ms-dhoni-world-cup-winning-team-photoshoot-133275882.html',\n",
       " 'https://www.bhaskar.com/no-fake-news/news/video-of-murder-in-broad-daylight-goes-viral-with-communal-angle-133246157.html',\n",
       " 'https://www.bhaskar.com/no-fake-news/news/sonia-gandhi-italy-dancer-supriya-shrinate-fake-tweet-screenshot-viral-controversy-133239904.html',\n",
       " 'https://www.bhaskar.com/no-fake-news/news/arvind-kejriwal-vs-manish-sisodia-cbi-liquor-policy-scam-133230522.html',\n",
       " 'https://www.bhaskar.com/no-fake-news/news/video-of-police-brutality-goes-viral-again-133230258.html',\n",
       " 'https://www.bhaskar.com/no-fake-news/news/afghanistan-world-cup-semi-finals-taliban-celebration-viral-video-133225018.html',\n",
       " 'https://www.bhaskar.com/no-fake-news/news/crowd-angry-with-congress-mp-broke-windows-of-his-office-133210418.html',\n",
       " 'https://www.bhaskar.com/no-fake-news/news/indore-eid-stone-pelting-viral-video-exposed-hindu-vs-abdul-gang-133210163.html',\n",
       " 'https://www.bhaskar.com/no-fake-news/news/did-the-prime-minister-ignore-president-biden-133184921.html',\n",
       " 'https://www.bhaskar.com/no-fake-news/news/pm-modi-rajnath-singh-bjp-margdarshak-mandal-viral-photo-controversy-133173868.html',\n",
       " 'https://www.bhaskar.com/no-fake-news/news/nitin-gadkari-gutka-viral-video-bjp-jp-nadda-133164575.html',\n",
       " 'https://www.bhaskar.com/no-fake-news/news/did-the-girl-light-a-cigarette-inside-the-temple-133159844.html',\n",
       " 'https://www.bhaskar.com/no-fake-news/news/did-fingers-appear-on-kanganas-cheek-after-the-slap-133144539.html',\n",
       " 'https://www.bhaskar.com/no-fake-news/news/did-tdp-workers-protest-against-nda-alliance-133135432.html',\n",
       " 'https://www.bhaskar.com/no-fake-news/news/lok-sabha-election-fact-check-asaduddin-owaisi-rahul-gandhi-mallikarjun-kharge-133125600.html',\n",
       " 'https://www.bhaskar.com/no-fake-news/news/was-the-body-of-a-hindu-girl-found-in-an-agra-mosque-133098231.html',\n",
       " 'https://www.bhaskar.com/no-fake-news/news/exit-poll-result-2024-controversy-bjp-congress-india-alliance-133092785.html',\n",
       " 'https://www.bhaskar.com/no-fake-news/news/pune-porsche-car-accident-vedant-agarwal-rap-song-video-controversy-133068303.html',\n",
       " 'https://www.bhaskar.com/no-fake-news/news/were-dalits-beaten-for-not-voting-for-bjp-133059344.html',\n",
       " 'https://www.bhaskar.com/no-fake-news/news/loksabha-elections-did-the-party-workers-oppose-akhilesh-yadav-133058490.html',\n",
       " 'https://www.bhaskar.com/no-fake-news/news/photo-viral-as-iranian-presidents-helicopter-crash-133049557.html',\n",
       " 'https://www.bhaskar.com/no-fake-news/news/rahul-gandhi-viral-video-pm-narendra-modi-up-congress-sp-alliance-133028355.html',\n",
       " 'https://www.bhaskar.com/no-fake-news/news/rss-chief-mohan-bhagwat-viral-video-reservation-controversy-bjp-133018929.html',\n",
       " 'https://www.bhaskar.com/no-fake-news/news/haryana-lok-sabha-election-campaign-viral-video-cm-nayab-singh-saini-bjp-133014364.html',\n",
       " 'https://www.bhaskar.com/no-fake-news/news/did-rahul-gandhi-reach-ayodhya-to-see-ram-lalla-133005359.html',\n",
       " 'https://www.bhaskar.com/no-fake-news/news/rahul-gandhi-victory-kerala-congress-cow-slaughter-viral-video-133000125.html',\n",
       " 'https://www.bhaskar.com/no-fake-news/news/haryana-bjp-leader-assault-viral-video-selja-kumari-bhupinder-hooda-132999603.html',\n",
       " 'https://www.bhaskar.com/no-fake-news/news/hyderabad-aimim-asaduddin-owaisi-viral-video-controversy-132995194.html',\n",
       " 'https://www.bhaskar.com/no-fake-news/news/uttarakhand-forest-fire-viral-video-controversy-exposed-132995189.html',\n",
       " 'https://www.bhaskar.com/no-fake-news/news/indian-army-election-2024-voting-video-bjp-samajwadi-party-132990198.html',\n",
       " 'https://www.bhaskar.com/no-fake-news/news/mallikarjun-kharge-viral-video-controversy-congress-muslims-132985269.html',\n",
       " 'https://www.bhaskar.com/no-fake-news/news/karnataka-congress-pm-modi-protest-accident-viral-video-132976105.html',\n",
       " 'https://www.bhaskar.com/no-fake-news/news/west-bengal-lok-sabha-election-duplicate-votes-artificial-finger-controversy-132966440.html',\n",
       " 'https://www.bhaskar.com/no-fake-news/news/punjab-lok-sabha-election-2024-survey-result-bjp-seats-aam-aadmi-party-132961675.html',\n",
       " 'https://www.bhaskar.com/no-fake-news/news/pm-modi-rahul-gandhi-viral-video-reservation-aarakshan-132956728.html',\n",
       " 'https://www.bhaskar.com/no-fake-news/news/lok-sabha-election-phase-2-fake-voting-west-bengal-polling-booth-viral-video-132942116.html',\n",
       " 'https://www.bhaskar.com/no-fake-news/news/did-raveena-tandon-support-congress-132933491.html',\n",
       " 'https://www.bhaskar.com/no-fake-news/news/lara-dutta-post-controversy-sonia-gandhi-pm-modi-132932744.html',\n",
       " 'https://www.bhaskar.com/no-fake-news/news/tripura-election-west-voting-controversy-evm-machine-132927844.html',\n",
       " 'https://www.bhaskar.com/no-fake-news/news/kurukshetra-lok-sabha-seat-fake-survey-naveen-jindal-vs-ram-gupta-132917471.html',\n",
       " 'https://www.bhaskar.com/no-fake-news/news/rahul-gandhi-desh-ka-x-ray-viral-video-fact-check-132918219.html',\n",
       " 'https://www.bhaskar.com/no-fake-news/news/evm-machine-viral-video-controversy-pm-modi-lok-sabha-election-fact-check-132912787.html',\n",
       " 'https://www.bhaskar.com/no-fake-news/news/ms-dhoni-congress-supports-controversy-lok-sabha-election-132913484.html',\n",
       " 'https://www.bhaskar.com/no-fake-news/news/burqa-voters-video-controversy-lok-sabha-election-132903564.html',\n",
       " 'https://www.bhaskar.com/no-fake-news/news/maharashtra-cm-eknath-shinde-viral-photo-tejashwi-yadav-ram-navami-132894371.html',\n",
       " 'https://www.bhaskar.com/entertainment/bollywood/news/ranveer-singh-deepfake-video-controversy-pm-modi-congress-lok-sabha-election-132893957.html',\n",
       " 'https://www.bhaskar.com/no-fake-news/news/meerut-bjp-candidate-arun-govil-dalit-house-controversy-video-132889423.html',\n",
       " 'https://www.bhaskar.com/entertainment/bollywood/news/aamir-khan-became-a-victim-of-deepfake-before-the-lok-sabha-elections-132884719.html',\n",
       " 'https://www.bhaskar.com/no-fake-news/news/lok-sabha-election-2024-fake-survey-result-india-alliance-vs-modi-bjp-132874100.html',\n",
       " 'https://www.bhaskar.com/no-fake-news/news/was-there-an-attack-on-the-bjp-candidate-was-bjp-candidate-sirsa-video-viral-132865074.html',\n",
       " 'https://www.bhaskar.com/no-fake-news/news/is-bjp-not-able-to-campaign-in-punjab-132854954.html',\n",
       " 'https://www.bhaskar.com/no-fake-news/news/varanasi-lok-sabha-election-2019-viral-video-vote-count-vs-evm-machine-data-132844094.html',\n",
       " 'https://www.bhaskar.com/no-fake-news/news/a-youth-threw-a-shoe-at-a-bjp-minister-viral-video-132839546.html',\n",
       " 'https://www.bhaskar.com/no-fake-news/news/bjp-leader-attacked-in-manipur-viral-video-132834112.html',\n",
       " 'https://www.bhaskar.com/no-fake-news/news/evm-machine-missing-controversy-lok-sabha-election-132833284.html',\n",
       " 'https://www.bhaskar.com/no-fake-news/news/mathura-lok-sabha-bjp-candidate-hema-malini-nomination-viral-video-132823161.html',\n",
       " 'https://www.bhaskar.com/no-fake-news/news/public-thrashed-bjp-leaders-in-tamilnadu-viral-video-132807511.html',\n",
       " 'https://www.bhaskar.com/no-fake-news/news/will-votes-be-cast-through-ballot-paper-instead-of-evm-132798512.html',\n",
       " 'https://www.bhaskar.com/no-fake-news/news/bjp-candidate-list-bihar-ashwini-choubey-crying-viral-video-132792407.html',\n",
       " 'https://www.bhaskar.com/no-fake-news/news/is-the-public-angry-with-bjp-old-video-viral-132788306.html',\n",
       " 'https://www.bhaskar.com/no-fake-news/news/up-meerut-bjp-lok-sabha-candidate-arun-govil-viral-video-132787116.html',\n",
       " 'https://www.bhaskar.com/no-fake-news/news/delhi-metro-train-viral-video-exposed-holi-132778378.html',\n",
       " 'https://www.bhaskar.com/no-fake-news/news/sonia-and-rahul-gandhi-refuse-to-drink-water-from-kharge-video-goes-viral-132771781.html',\n",
       " 'https://www.bhaskar.com/no-fake-news/news/arvind-kejriwal-arrest-protest-viral-photo-pm-modi-bjp-tanashah-132766693.html',\n",
       " 'https://www.bhaskar.com/no-fake-news/news/bjp-gaurav-bhatia-assault-cctv-footage-noida-court-viral-video-132765937.html',\n",
       " 'https://www.bhaskar.com/no-fake-news/news/were-modi-modi-slogans-raised-in-rahul-gandhis-meeting-132761088.html',\n",
       " 'https://www.bhaskar.com/no-fake-news/news/election-commission-press-conferennce-ignore-the-journalists-question-132751214.html',\n",
       " 'https://www.bhaskar.com/no-fake-news/news/rahul-gandhi-viral-video-lord-vitthal-idol-nashik-132744366.html',\n",
       " 'https://www.bhaskar.com/no-fake-news/news/was-there-an-attack-on-a-muslim-delivery-boy-132745068.html',\n",
       " 'https://www.bhaskar.com/no-fake-news/news/pm-narendra-modi-speech-old-video-goes-viral-132730296.html',\n",
       " 'https://www.bhaskar.com/no-fake-news/news/lok-sabha-election-poll-fake-date-schedule-viral-132729203.html',\n",
       " 'https://www.bhaskar.com/no-fake-news/news/pakistani-company-bjp-donation-amount-exposed-sbi-electoral-bond-data-132724241.html',\n",
       " 'https://www.bhaskar.com/no-fake-news/news/was-manohar-lal-khattar-sad-after-leaving-the-post-of-chief-minister-132719926.html',\n",
       " 'https://www.bhaskar.com/no-fake-news/news/has-the-election-commission-appointed-2-new-election-commissioners-132715665.html',\n",
       " 'https://www.bhaskar.com/no-fake-news/news/pakistan-caa-vs-india-pm-shahbaz-sharif-viral-tweet-screenshot-exposed-132710615.html',\n",
       " 'https://www.bhaskar.com/no-fake-news/news/viral-video-delhi-police-si-beaten-by-mob-over-namaz-issue-132704647.html',\n",
       " 'https://www.bhaskar.com/no-fake-news/news/namaaz-uttar-pradesh-police-viral-video-exposed-delhi-police-132697172.html',\n",
       " 'https://www.bhaskar.com/no-fake-news/news/did-akhilesh-and-dimple-pay-tribute-to-atiq-ahmed-132688498.html',\n",
       " 'https://www.bhaskar.com/no-fake-news/news/sandeshkhali-police-viral-video-exposed-shahjahan-sheikh-132676889.html',\n",
       " 'https://www.bhaskar.com/no-fake-news/news/rahul-gandhi-viral-video-exposed-bjp-jai-shri-ram-bharat-mata-ki-jai-132645192.html',\n",
       " 'https://www.bhaskar.com/no-fake-news/news/virat-kohli-anushka-sharma-baby-fake-photo-viral-132654570.html',\n",
       " 'https://www.bhaskar.com/no-fake-news/news/viral-video-of-sudarshan-setu-bridge-inauguration-by-pm-modi-132640134.html',\n",
       " 'https://www.bhaskar.com/no-fake-news/news/delhi-kisan-andolan-viral-photos-exposed-pellet-guns-farmers-protest-132627209.html',\n",
       " 'https://www.bhaskar.com/no-fake-news/news/delhi-kisan-andolan-viral-video-exposed-pm-modi-popularity-farmers-protest-132622428.html',\n",
       " 'https://www.bhaskar.com/no-fake-news/news/delhi-kisan-andolan-viral-video-reality-shambhu-border-farmers-protest-132616927.html',\n",
       " 'https://www.bhaskar.com/no-fake-news/news/kisan-andolan-liquor-langarviral-video-shambhu-border-farmers-protest-132602777.html',\n",
       " 'https://www.bhaskar.com/no-fake-news/news/kisan-andolan-liquor-distribution-viral-video-shambhu-border-farmers-protest-132594787.html',\n",
       " 'https://www.bhaskar.com/no-fake-news/news/is-there-a-khalistani-angle-in-the-farmers-movement-132586847.html',\n",
       " 'https://www.bhaskar.com/no-fake-news/news/kisan-andolan-viral-video-haryana-police-vs-tractor-punjab-farmers-protest-132585686.html',\n",
       " 'https://www.bhaskar.com/no-fake-news/news/kisan-andolan-delhi-farmers-protest-tractor-viral-video-132581665.html',\n",
       " 'https://www.bhaskar.com/no-fake-news/news/haldwani-violence-muslim-population-viral-news-bangladeshi-rohingya-pfi-132576655.html',\n",
       " 'https://www.bhaskar.com/no-fake-news/news/pakistan-elections-2024-images-of-imran-khan-viral-132567828.html',\n",
       " 'https://www.bhaskar.com/no-fake-news/news/mp-damoh-police-assault-viral-video-cow-smugglers-vs-muslims-132550051.html',\n",
       " 'https://www.bhaskar.com/no-fake-news/news/gujarat-kanhaiya-lal-murder-tailor-viral-video-132545322.html',\n",
       " 'https://www.bhaskar.com/no-fake-news/news/claim-new-zealands-home-minister-adopted-sanatan-dharma-132537709.html',\n",
       " 'https://www.bhaskar.com/no-fake-news/news/bihar-political-crisis-funny-memes-nitish-kumar-lalu-prasad-tejashwi-yadav-132503407.html',\n",
       " 'https://www.bhaskar.com/no-fake-news/news/devotees-made-offerings-worth-crores-in-ram-temple-132495873.html',\n",
       " 'https://www.bhaskar.com/no-fake-news/news/mumbai-mira-road-hindu-muslim-clash-viral-video-ayodhya-ram-mandir-132491482.html',\n",
       " 'https://www.bhaskar.com/no-fake-news/news/italy-pm-giorgia-meloni-viral-photo-ayodhya-ram-mandir-ram-lalla-idol-murti-132486446.html',\n",
       " 'https://www.bhaskar.com/no-fake-news/news/kashmir-srinagar-lal-chowk-viral-video-lord-ram-tiranga-132471364.html',\n",
       " 'https://www.bhaskar.com/no-fake-news/news/israel-22-january-holiday-ayodhya-ram-mandir-pran-pratishtha-132471513.html',\n",
       " 'https://www.bhaskar.com/no-fake-news/news/will-there-be-power-cut-in-kerala-on-22-january-know-the-truth-132457027.html',\n",
       " 'https://www.bhaskar.com/no-fake-news/news/ayodhya-ram-mandir-500-currency-notes-viral-photo-132451608.html',\n",
       " 'https://www.bhaskar.com/no-fake-news/news/nepal-ayodhya-yatra-viral-video-ram-mandir-pran-pratishta-132437793.html',\n",
       " 'https://www.bhaskar.com/entertainment/bollywood/news/anant-ambani-radhika-merchants-wedding-date-revealed-132437365.html',\n",
       " 'https://www.bhaskar.com/no-fake-news/news/maldives-beach-naked-girl-viral-photo-gang-raped-132427604.html',\n",
       " 'https://www.bhaskar.com/no-fake-news/news/ayodhya-ram-mandir-bhalu-viral-video-ram-janmbhoomi-teerth-132422235.html',\n",
       " 'https://www.bhaskar.com/no-fake-news/news/lakshadweep-controversy-maldives-president-mohammed-muizzu-viral-post-132422158.html',\n",
       " 'https://www.bhaskar.com/no-fake-news/news/viral-photos-claimed-to-be-of-lakshadweep-were-actually-from-maldives-132412501.html',\n",
       " 'https://www.bhaskar.com/no-fake-news/news/ayodhya-ram-mandir-vulture-group-video-goes-viral-132402486.html',\n",
       " 'https://www.bhaskar.com/no-fake-news/news/is-ram-temple-lit-at-night-know-the-truth-of-viral-video-132397739.html',\n",
       " 'https://www.bhaskar.com/no-fake-news/news/sculptor-of-lord-ram-viral-with-wrong-claim-132397343.html',\n",
       " 'https://www.bhaskar.com/no-fake-news/news/has-the-video-of-terrorist-masood-azhars-death-surfaced-read-fact-check-132387774.html',\n",
       " 'https://www.bhaskar.com/no-fake-news/news/video-goes-viral-in-the-name-of-earthquake-tsunami-in-japan-132382194.html',\n",
       " 'https://www.bhaskar.com/no-fake-news/news/old-video-of-japan-shared-as-new-latest-hindi-news-132377412.html',\n",
       " 'https://www.bhaskar.com/no-fake-news/news/new-year-2023-facecheck-odisha-train-accident-chandrayaan-3-viral-video-132367707.html',\n",
       " 'https://www.bhaskar.com/no-fake-news/news/claim-of-beating-of-dalit-during-ram-temple-function-in-ayodhya-132357593.html',\n",
       " 'https://www.bhaskar.com/no-fake-news/news/did-election-commission-gave-evm-hacking-challenge-fact-check-132367812.html',\n",
       " 'https://www.bhaskar.com/no-fake-news/news/did-a-rajasthan-cm-fall-while-playing-cricket-132362551.html',\n",
       " 'https://www.bhaskar.com/no-fake-news/news/viral-claim-of-lord-ram-idol-placed-in-malls-during-christmas-132352636.html',\n",
       " 'https://www.bhaskar.com/no-fake-news/news/mumbai-indians-fans-raised-slogan-mumbais-king-rohit-sharma-know-the-truth-of-viral-video-132342483.html',\n",
       " 'https://www.bhaskar.com/no-fake-news/news/dayanidhi-maran-controversial-statement-about-up-and-bihar-people-132342099.html',\n",
       " 'https://www.bhaskar.com/no-fake-news/news/after-sakshi-malik-vinesh-phogat-also-quits-wrestling-132332056.html',\n",
       " 'https://www.bhaskar.com/no-fake-news/news/mp-congress-president-jitu-patwaris-video-goes-viral-132322046.html',\n",
       " 'https://www.bhaskar.com/no-fake-news/news/did-italian-pm-giorgia-meloni-said-islam-has-no-place-in-europe-read-fact-check-132311725.html',\n",
       " 'https://www.bhaskar.com/no-fake-news/news/fake-video-of-madhya-pradesh-cm-doctor-mohan-yadav-viral-on-internet-132311507.html',\n",
       " 'https://www.bhaskar.com/no-fake-news/news/dawood-ibrahim-dead-in-pakistan-132306077.html',\n",
       " 'https://www.bhaskar.com/no-fake-news/news/claim-people-of-hindu-organization-beat-kashmiri-youth-video-of-beating-of-kashmiris-goes-viral-know-its-truth-132306282.html',\n",
       " 'https://www.bhaskar.com/no-fake-news/news/ayodhya-ramlala-mandir-viral-photos-muslim-murtikar-132291678.html',\n",
       " 'https://www.bhaskar.com/no-fake-news/news/claim-condition-of-hindus-in-kerala-is-pathetic-132286449.html',\n",
       " 'https://www.bhaskar.com/no-fake-news/news/did-ratan-tata-said-rahul-gandhi-will-be-the-next-pm-of-india-132280995.html',\n",
       " 'https://www.bhaskar.com/no-fake-news/news/did-shivraj-singh-chauhan-get-emotional-on-not-becoming-cm-132276820.html',\n",
       " 'https://www.bhaskar.com/no-fake-news/news/has-the-consignment-of-bulldozers-reached-rajasthan-132262035.html',\n",
       " 'https://www.bhaskar.com/no-fake-news/news/video-of-women-drinking-alcohol-goes-viral-in-the-name-of-bjp-win-in-madhya-pradesh-132251977.html',\n",
       " 'https://www.bhaskar.com/no-fake-news/news/was-there-an-attack-on-pakistani-muslims-in-china-132247042.html',\n",
       " 'https://www.bhaskar.com/no-fake-news/news/photo-goes-viral-in-the-name-of-rescue-operation-of-41-laborers-132212952.html',\n",
       " 'https://www.bhaskar.com/no-fake-news/news/fake-video-of-up-police-viral-on-social-media-132222227.html',\n",
       " 'https://www.bhaskar.com/no-fake-news/news/student-beaten-because-he-was-dalit-fact-check-132208028.html',\n",
       " 'https://www.bhaskar.com/no-fake-news/news/half-incomplete-video-of-prime-minister-modi-goes-viral-with-misleading-claims-132194043.html',\n",
       " 'https://www.bhaskar.com/no-fake-news/news/fake-video-of-ashok-gehlot-election-rally-people-shouting-modi-modi-132184076.html',\n",
       " 'https://www.bhaskar.com/no-fake-news/news/cheating-happened-with-ind-in-the-world-cup-2023-final-132173701.html',\n",
       " 'https://www.bhaskar.com/no-fake-news/news/india-aus-world-cup-2023-fake-video-of-pm-modi-viral-on-internet-132168829.html',\n",
       " 'https://www.bhaskar.com/no-fake-news/news/bijnaur-uttar-pradesh-paint-buisnessman-wife-gangrape-fake-news-132159785.html',\n",
       " 'https://www.bhaskar.com/no-fake-news/news/whatsapps-guide-on-how-users-can-stop-the-spread-of-misinformation-132155615.html',\n",
       " 'https://www.bhaskar.com/no-fake-news/news/mp-election-bjp-candidate-video-goes-viral-west-bengal-132146985.html',\n",
       " 'https://www.bhaskar.com/no-fake-news/news/fact-check-man-mortgaged-his-wife-after-losing-in-gambling-in-amroha-132138170.html',\n",
       " 'https://www.bhaskar.com/no-fake-news/news/maxwell-touched-sachins-feet-after-his-double-century-132127337.html',\n",
       " 'https://www.bhaskar.com/no-fake-news/news/are-palestinians-taking-help-of-tricolor-to-escape-132117473.html',\n",
       " 'https://www.bhaskar.com/no-fake-news/news/viral-video-of-west-bengal-mahishasur-railway-station-vandalized-132112506.html',\n",
       " 'https://www.bhaskar.com/entertainment/bollywood/news/fake-video-of-rashmika-mandanna-made-by-ai-goes-viral-132107399.html',\n",
       " 'https://www.bhaskar.com/no-fake-news/news/attack-on-pakistan-mianwali-air-force-base-fact-check-132097920.html',\n",
       " 'https://www.bhaskar.com/no-fake-news/news/viral-video-of-bjp-leaders-fighting-in-a-election-rally-2023-132092995.html',\n",
       " 'https://www.bhaskar.com/no-fake-news/news/muslim-man-posing-as-a-saint-gave-provocative-statement-in-haridwar-132083616.html',\n",
       " 'https://www.bhaskar.com/no-fake-news/news/kartik-aaryan-fake-video-supporting-congress-in-mp-election-132077753.html',\n",
       " 'https://www.bhaskar.com/no-fake-news/news/did-aljazeera-make-fake-video-132073296.html',\n",
       " 'https://www.bhaskar.com/no-fake-news/news/did-akshay-kumar-support-palestine-here-are-top-5-fake-news-of-this-week-132062986.html',\n",
       " 'https://www.bhaskar.com/no-fake-news/news/video-viral-in-the-name-of-pakistani-wrestler-132058108.html',\n",
       " 'https://www.bhaskar.com/no-fake-news/news/hanuman-ji-dhwaj-haryana-panipat-hindu-shobha-yatra-viral-video-controversy-131838060.html',\n",
       " 'https://www.bhaskar.com/no-fake-news/news/was-the-temple-priest-beaten-severely-by-a-muslim-youth-132053145.html',\n",
       " 'https://www.bhaskar.com/no-fake-news/news/putin-heart-attack-news-was-fake-says-kremlin-claimed-he-is-healthy-132047382.html',\n",
       " 'https://www.bhaskar.com/no-fake-news/news/viral-video-of-pak-aus-match-132027848.html',\n",
       " 'https://www.bhaskar.com/no-fake-news/news/israel-hamas-war-viral-videos-pakistan-nuclear-power-gaza-attack-132011845.html',\n",
       " 'https://www.bhaskar.com/no-fake-news/news/fact-check-did-rashid-khan-dedicated-afghanistans-victory-to-israel-132001185.html',\n",
       " 'https://www.bhaskar.com/no-fake-news/news/israel-hamas-war-viral-video-controversy-youtube-channels-131985559.html',\n",
       " 'https://www.bhaskar.com/no-fake-news/news/the-news-of-nobel-prize-winner-amartya-sens-death-is-wrong-131970289.html',\n",
       " 'https://www.bhaskar.com/no-fake-news/news/israel-hamas-war-viral-videos-palestinian-gaza-strip-attack-131964773.html',\n",
       " 'https://www.bhaskar.com/no-fake-news/news/israel-operation-iron-swords-viral-video-airstrike-palestinian-gaza-strip-131954825.html',\n",
       " 'https://www.bhaskar.com/no-fake-news/news/photo-goes-viral-in-the-name-of-sanjay-singhs-arrest-131949629.html',\n",
       " 'https://www.bhaskar.com/no-fake-news/news/ujjain-mahakal-sawari-haathi-ramu-131934099.html',\n",
       " 'https://www.bhaskar.com/local/rajasthan/kota/news/kota-student-suicide-patna-girl-jumps-off-four-storey-building-131933844.html',\n",
       " 'https://www.bhaskar.com/no-fake-news/news/indian-air-force-sikh-pilot-vs-hindus-131929016.html',\n",
       " 'https://www.bhaskar.com/no-fake-news/news/pakistan-world-cup-team-hyderabad-airport-video-controversy-131909106.html',\n",
       " 'https://www.bhaskar.com/no-fake-news/news/fake-video-of-prime-minister-modi-is-viral-malaseri-dungri-temple-rajasthan-131904858.html',\n",
       " 'https://www.bhaskar.com/no-fake-news/news/angered-by-the-loss-the-businessman-threw-the-diamonds-131898953.html',\n",
       " 'https://www.bhaskar.com/no-fake-news/news/uttar-pradesh-molesters-viral-video-ambedkar-nagar-encounter-131893777.html',\n",
       " 'https://www.bhaskar.com/no-fake-news/news/canada-rss-sangh-ban-controversy-justin-trudeau-khalistani-murder-131878654.html',\n",
       " 'https://www.bhaskar.com/no-fake-news/news/canada-india-dispute-rashtrapati-bhavan-security-officer-fake-post-viral-131867924.html',\n",
       " 'https://www.bhaskar.com/no-fake-news/news/indore-hindu-muslim-boys-girls-viral-video-agra-hookah-bar-raid-footage-controversy-131858368.html',\n",
       " 'https://www.bhaskar.com/no-fake-news/news/mp-bjp-mla-assault-video-controversy-odisha-bjd-mla-avi-dandiya-tweet-131843902.html',\n",
       " 'https://www.bhaskar.com/no-fake-news/news/kbc-viral-video-controversy-shivraj-chouhan-vs-kamal-nath-ujjain-mahakal-corridor-131827847.html',\n",
       " 'https://www.bhaskar.com/no-fake-news/news/did-a-man-named-rafiq-make-a-hindu-woman-wear-a-saree-131812779.html',\n",
       " 'https://www.bhaskar.com/no-fake-news/news/delhi-g20-summit-2023-muslims-rally-fake-video-goes-viral-131803417.html',\n",
       " 'https://www.bhaskar.com/no-fake-news/news/gautam-gambhir-middle-finger-video-controversy-virat-kohli-ind-vs-nep-131798365.html',\n",
       " 'https://www.bhaskar.com/no-fake-news/news/viral-video-jai-bholenath-written-on-muslim-youths-forehead-131797965.html',\n",
       " 'https://www.bhaskar.com/no-fake-news/news/whatsapp-call-recording-new-communication-rules-fake-post-goes-viral-131772868.html',\n",
       " 'https://www.bhaskar.com/no-fake-news/news/chandrayaan-3-rajasthan-mewar-university-kashmiri-students-video-controversy-131758266.html',\n",
       " 'https://www.bhaskar.com/no-fake-news/news/finger-cut-off-after-voting-for-bjp-131753458.html',\n",
       " 'https://www.bhaskar.com/no-fake-news/news/after-the-success-of-chandrayaan-3-the-video-of-bbc-news-went-viral-131732758.html',\n",
       " 'https://www.bhaskar.com/no-fake-news/news/chandrayaan-3-seen-orbiting-the-moon-131727606.html',\n",
       " 'https://www.bhaskar.com/no-fake-news/news/chandrayaan-3-viral-photos-vikram-lander-landing-real-video-131722400.html',\n",
       " 'https://www.bhaskar.com/no-fake-news/news/sunny-deol-gadar-2-attack-viral-video-controversy-pm-modi-131708091.html',\n",
       " 'https://www.bhaskar.com/no-fake-news/news/video-of-beating-of-monk-went-viral-by-giving-communal-color-did-the-young-man-of-a-particular-community-cut-monks-beard-and-hair-while-beating-him-learn-about-the-case-in-detail-131708231.html',\n",
       " 'https://www.bhaskar.com/no-fake-news/news/this-news-related-to-president-murmu-is-fake-131694056.html',\n",
       " 'https://www.bhaskar.com/no-fake-news/news/cji-dy-chandrachud-fake-viral-news-131686822.html',\n",
       " 'https://www.bhaskar.com/national/news/dainik-bhaskar-news-headlines-manipur-violence-cbi-chatgpt-bankruptcy-131683269.html',\n",
       " 'https://www.bhaskar.com/sports/cricket/news/virat-kohli-on-his-instagram-social-media-earnings-report-131677231.html',\n",
       " 'https://www.bhaskar.com/no-fake-news/news/rahul-gandhi-viral-video-controversy-lanka-not-burnt-by-hanuman-ji-131667817.html',\n",
       " 'https://www.bhaskar.com/no-fake-news/news/police-lathicharged-the-rioters-of-nuh-violence-people-were-seen-running-away-after-saving-their-lives-know-the-truth-of-this-viral-video-131657906.html',\n",
       " 'https://www.bhaskar.com/no-fake-news/news/maulana-was-chased-and-beaten-by-the-mob-131642851.html',\n",
       " 'https://www.bhaskar.com/no-fake-news/news/claim-closeness-seen-with-husband-and-father-in-law-know-the-truth-131628496.html',\n",
       " 'https://www.bhaskar.com/no-fake-news/news/viral-video-of-a-sex-scandal-involving-monk-and-two-women-131619307.html',\n",
       " 'https://www.bhaskar.com/no-fake-news/news/claim-on-social-media-police-fired-and-killed-many-muslims-know-the-truth-131600791.html',\n",
       " 'https://www.bhaskar.com/no-fake-news/news/vrindavan-ashram-sant-premanand-ji-maharaj-death-news-goes-viral-131585998.html',\n",
       " 'https://www.bhaskar.com/no-fake-news/news/manipur-women-paraded-naked-viral-video-chandauli-131572856.html',\n",
       " 'https://www.bhaskar.com/no-fake-news/news/did-police-lathi-charge-on-kanwariyas-in-bengal-video-targeting-cm-mamta-banerjee-is-going-viral-but-the-truth-is-something-else-131567655.html',\n",
       " 'https://www.bhaskar.com/no-fake-news/news/fake-video-of-the-launch-of-chandrayaan-3-goes-viral-this-rocket-seen-going-in-the-sky-is-not-chandrayaan-3-know-the-whole-matter-131562156.html',\n",
       " 'https://www.bhaskar.com/no-fake-news/news/did-a-muslim-youth-kill-a-hindu-girl-robbed-her-of-cash-and-jewelery-worth-lakhs-of-rupees-and-threw-her-into-the-yamuna-river-know-the-truth-131536206.html',\n",
       " 'https://www.bhaskar.com/no-fake-news/news/seema-haider-story-pak-army-major-samia-rehman-131536096.html',\n",
       " 'https://www.bhaskar.com/no-fake-news/news/did-the-passengers-start-the-train-by-pushing-video-of-the-accident-went-viral-with-a-misleading-claim-know-the-whole-matter-131513200.html',\n",
       " 'https://www.bhaskar.com/no-fake-news/news/video-viral-in-the-name-of-sdm-jyoti-maurya-husband-caught-talking-to-boyfriend-wife-abused-him-learn-about-the-case-in-detail-131494814.html',\n",
       " 'https://www.bhaskar.com/no-fake-news/news/fake-news-alert-viral-video-of-policeman-kicking-a-panipuri-vendor-131484464.html',\n",
       " 'https://www.bhaskar.com/no-fake-news/news/did-the-british-journalist-released-veer-savarkars-video-showing-a-life-full-of-struggle-and-oppression-during-kalapani-sentence-know-the-truth-131480662.html',\n",
       " 'https://www.bhaskar.com/no-fake-news/news/videos-went-viral-in-the-name-of-france-violence-sniper-guns-in-the-hands-of-rioters-and-many-cars-were-thrown-from-the-building-to-the-ground-know-the-truth-131469653.html',\n",
       " 'https://www.bhaskar.com/no-fake-news/news/muslim-youth-attacked-in-china-beaten-for-offering-namaz-in-public-place-know-the-truth-of-viral-video-131462087.html',\n",
       " 'https://www.bhaskar.com/no-fake-news/news/did-a-muslim-youth-molest-a-hindu-girl-student-the-video-of-the-incident-in-ahmedabad-is-being-viral-by-giving-communal-color-131458208.html',\n",
       " 'https://www.bhaskar.com/no-fake-news/news/fake-screenshot-in-the-name-of-dainik-bhaskar-went-viral-it-was-written-in-the-news-rajasthan-will-be-the-first-state-to-implement-manusmriti-if-bjp-comes-131443251.html',\n",
       " 'https://www.bhaskar.com/no-fake-news/news/narendra-modi-us-visit-new-york-times-front-page-photo-goes-viral-131435500.html',\n",
       " 'https://www.bhaskar.com/no-fake-news/news/did-a-muslim-youth-beat-up-a-hindu-girl-after-marriage-crossing-the-limits-of-cruelty-slammed-by-holding-hair-showered-poles-all-over-the-body-131431713.html',\n",
       " 'https://www.bhaskar.com/no-fake-news/news/odisha-train-tragedy-vs-amir-khan-railway-junior-engineer-missing-news-viral-131428038.html',\n",
       " 'https://www.bhaskar.com/no-fake-news/news/know-how-true-is-the-throat-of-muslim-youths-on-the-threat-of-rape-and-conversion-131427478.html',\n",
       " 'https://www.bhaskar.com/national/news/kedarnath-yatra-video-hindu-assaulted-by-muslim-khachchar-wale-131405157.html',\n",
       " 'https://www.bhaskar.com/no-fake-news/news/somewhere-the-yacht-got-hit-by-the-waves-somewhere-the-bridge-got-flooded-fake-videos-viral-in-the-name-of-biparjoy-storm-131400815.html',\n",
       " 'https://www.bhaskar.com/no-fake-news/news/did-lord-ram-have-5-fathers-pandit-dhirendra-shastris-incomplete-video-viral-with-wrong-context-know-the-truth-131384835.html',\n",
       " 'https://www.bhaskar.com/no-fake-news/news/wrestler-sakshi-malik-trolled-for-sharing-photo-of-injured-farmer-131380849.html',\n",
       " 'https://www.bhaskar.com/no-fake-news/news/narendra-modi-viral-video-bagheshwar-dham-sarkar-pandit-dheerendra-krishna-shastri-katha-131376958.html',\n",
       " 'https://www.bhaskar.com/no-fake-news/news/photo-of-odisha-train-accident-viral-with-communal-colour-was-the-mosque-seen-near-the-accident-site-and-the-station-master-also-a-muslim-131369476.html',\n",
       " 'https://www.bhaskar.com/no-fake-news/news/photos-viral-in-the-name-of-love-jihad-somewhere-body-found-in-bag-somewhere-muslim-youth-seen-carrying-dead-body-of-hindu-girl-know-the-truth-131362085.html',\n",
       " 'https://www.bhaskar.com/no-fake-news/news/video-viral-in-the-name-of-drug-jihad-nails-and-screws-coming-out-from-inside-the-capsules-being-sold-in-india-know-its-whole-truth-131361631.html',\n",
       " 'https://www.bhaskar.com/no-fake-news/news/alleged-video-of-union-ministers-dance-goes-viral-meenakshi-lekhi-was-seen-dancing-in-the-party-after-running-away-from-medias-question-131354062.html',\n",
       " 'https://www.bhaskar.com/no-fake-news/news/bjp-mp-brij-bhushan-sharan-case-vinesh-phogat-sangita-phogat-photos-goes-viral-131341916.html',\n",
       " 'https://www.bhaskar.com/no-fake-news/news/karnataka-congress-vs-hijab-college-school-muslim-girls-video-goes-viral-131334233.html',\n",
       " 'https://www.bhaskar.com/no-fake-news/news/gujarat-aap-leader-shekhar-agarwal-ed-raid-video-131325846.html',\n",
       " 'https://www.bhaskar.com/no-fake-news/news/mp-school-uniform-scam-shivraj-singh-chouhan-cartoon-goes-viral-131317908.html',\n",
       " 'https://www.bhaskar.com/no-fake-news/news/kerala-rss-female-karyakarta-murder-video-viral-131313622.html',\n",
       " 'https://www.bhaskar.com/no-fake-news/news/karnataka-election-vs-bjp-congress-cow-slaughtering-video-goes-viral-131298286.html',\n",
       " 'https://www.bhaskar.com/no-fake-news/news/pak-congratulated-on-the-victory-of-congress-pm-shahbaz-sharif-said-thanks-to-karnataka-for-the-strength-of-islam-know-the-truth-of-this-claim-131293900.html',\n",
       " 'https://www.bhaskar.com/no-fake-news/news/inspired-by-kerala-story-muslim-youth-beaten-up-hindu-used-to-talk-obscenely-by-calling-girl-know-the-truth-of-viral-video-131294413.html',\n",
       " 'https://www.bhaskar.com/no-fake-news/news/salman-khan-bageshwar-dham-viral-video-dhirendra-krishna-shastri-hanumant-katha-in-patna-131289757.html',\n",
       " 'https://www.bhaskar.com/no-fake-news/news/pakistan-flag-hoisted-on-congress-victory-video-went-viral-after-karnataka-election-results-know-its-truth-131278890.html',\n",
       " 'https://www.bhaskar.com/no-fake-news/news/bollywood-star-hrithik-roshan-came-in-support-of-imran-khan-said-raise-voice-for-him-as-a-human-being-know-the-truth-of-viral-video-131271132.html',\n",
       " 'https://www.bhaskar.com/no-fake-news/news/on-april-11-he-was-seen-going-to-a-hotel-in-odisha-know-the-truth-of-this-viral-video-131263456.html',\n",
       " 'https://www.bhaskar.com/no-fake-news/news/karnataka-assembly-election-2023-liquor-and-chicken-being-distributed-to-woo-voters-know-the-truth-of-the-video-going-viral-131263189.html',\n",
       " 'https://www.bhaskar.com/no-fake-news/news/foreign-minister-of-pakistan-danced-in-goa-bilawal-bhutto-was-seen-dancing-with-a-female-dancer-on-the-song-besharam-rang-know-about-viral-video-131247767.html',\n",
       " 'https://www.bhaskar.com/no-fake-news/news/the-trick-adopted-to-save-the-dead-bodies-of-women-from-rapists-know-the-truth-of-viral-photo-131243887.html',\n",
       " 'https://www.bhaskar.com/no-fake-news/news/sudan-violence-photos-exposing-the-truth-behind-the-viral-fake-building-videos-131233048.html',\n",
       " 'https://www.bhaskar.com/no-fake-news/news/karnataka-election-viral-video-no-vote-to-party-mla-vs-congress-131221389.html',\n",
       " 'https://www.bhaskar.com/no-fake-news/news/rain-water-leaked-from-the-roof-of-vande-bharat-express-the-driver-ran-the-train-with-an-umbrella-know-the-truth-related-to-this-matter-131216923.html',\n",
       " 'https://www.bhaskar.com/no-fake-news/news/diljit-dosanjh-insulted-tricolor-in-live-show-said-put-the-flag-down-this-is-not-india-know-the-truth-of-viral-video-131212969.html',\n",
       " 'https://www.bhaskar.com/no-fake-news/news/video-viral-in-the-name-of-exploitation-of-dalit-youth-made-to-drink-water-filled-in-shoes-know-its-truth-131151155.html',\n",
       " 'https://www.bhaskar.com/local/mp/news/people-started-touching-feet-as-goddess-woman-said-no-miracle-there-was-less-water-131141620.html',\n",
       " 'https://www.bhaskar.com/no-fake-news/news/video-of-dwarka-city-submerged-in-water-goes-viral-radha-krishnas-idol-seen-inside-the-palace-know-its-truth-131134960.html',\n",
       " 'https://www.bhaskar.com/no-fake-news/news/claim-to-take-out-a-procession-on-ram-navami-in-pakistan-users-said-hindus-are-safe-there-but-not-in-india-know-the-truth-of-viral-video-131126544.html',\n",
       " 'https://www.bhaskar.com/no-fake-news/news/dalit-thrashed-in-the-name-of-casteism-in-meerut-made-bald-put-soot-on-his-face-then-kicked-and-punched-know-the-truth-131122824.html',\n",
       " 'https://www.bhaskar.com/no-fake-news/news/bulldozer-forced-into-muslim-elderlys-house-in-up-the-woman-officer-refused-to-obey-the-court-order-know-the-truth-of-the-viral-video-131110676.html',\n",
       " 'https://www.bhaskar.com/local/rajasthan/jaipur/news/mp-told-government-teacher-know-what-is-the-truth-131106160.html',\n",
       " 'https://www.bhaskar.com/no-fake-news/news/dr-bhimrao-ambedkars-picture-on-american-metro-train-know-the-truth-of-viral-photo-131091264.html',\n",
       " 'https://www.bhaskar.com/no-fake-news/news/video-viral-in-the-name-of-chenab-rail-bridge-of-jammu-and-kashmir-train-was-run-on-the-bridge-know-its-truth-131083432.html',\n",
       " 'https://www.bhaskar.com/no-fake-news/news/christian-youth-brutally-thrashed-by-hindu-extremists-know-the-truth-of-viral-video-131066140.html',\n",
       " 'https://www.bhaskar.com/no-fake-news/news/shahi-imam-of-delhis-jama-masjid-joins-bjp-know-the-truth-of-viral-video-131057767.html',\n",
       " 'https://www.bhaskar.com/no-fake-news/news/claims-of-the-deputy-leader-of-the-nobel-prize-committee-know-the-truth-of-this-viral-claim-131045727.html',\n",
       " 'https://www.bhaskar.com/no-fake-news/news/statement-of-the-former-pm-of-britain-told-india-a-country-that-listens-to-the-words-of-uneducated-babas-know-the-truth-of-this-viral-photo-131042018.html',\n",
       " 'https://www.bhaskar.com/no-fake-news/news/video-going-viral-in-the-name-of-beating-of-a-muslim-claims-when-a-hindu-girl-was-threatened-her-brothers-beat-her-know-its-truth-131033982.html',\n",
       " 'https://www.bhaskar.com/no-fake-news/news/yogi-put-martyrs-ashes-on-his-forehead-video-linked-to-umesh-pal-murder-case-goes-viral-know-the-truth-131009799.html',\n",
       " 'https://www.bhaskar.com/no-fake-news/news/muslim-youth-brutally-thrashed-temple-priest-know-the-truth-of-this-viral-video-131001608.html',\n",
       " 'https://www.bhaskar.com/no-fake-news/news/pandit-dhirendra-shastri-will-campaign-for-congress-bageshwar-dham-will-walk-121-km-in-support-of-the-party-know-its-truth-130997429.html',\n",
       " 'https://www.bhaskar.com/no-fake-news/news/are-muslim-barbers-being-trained-to-spread-aids-know-the-truth-of-viral-photo-130993264.html',\n",
       " 'https://www.bhaskar.com/no-fake-news/news/former-maharashtra-cm-uddhav-thackeray-told-aurangzeb-his-brother-know-the-truth-of-this-viral-video-130988861.html',\n",
       " 'https://www.bhaskar.com/no-fake-news/news/muslim-man-mercilessly-thrashes-the-child-of-neighboring-hindu-know-the-truth-of-this-viral-video-130980016.html',\n",
       " 'https://www.bhaskar.com/no-fake-news/news/muslim-fanatics-killed-the-priest-of-mahadev-temple-in-rajasthan-know-the-truth-of-viral-video-130970827.html',\n",
       " 'https://www.bhaskar.com/no-fake-news/news/metro-pillar-under-construction-fell-in-delhis-najafgarh-know-the-truth-of-this-viral-video-130962156.html',\n",
       " 'https://www.bhaskar.com/no-fake-news/news/earthquake-in-turkey-torn-into-two-parts-up-to-300-km-know-the-truth-of-this-viral-video-130958784.html',\n",
       " 'https://www.bhaskar.com/no-fake-news/news/enraged-by-bulldozer-action-in-up-2-people-burnt-themselves-alive-know-the-truth-of-this-viral-video-130954858.html',\n",
       " 'https://www.bhaskar.com/no-fake-news/news/job-for-ganja-smokers-in-up-salary-80-lakhs-know-the-truth-of-this-viral-post-130950536.html',\n",
       " 'https://www.bhaskar.com/no-fake-news/news/police-shot-a-youth-named-abdul-in-uttar-pradesh-know-the-truth-of-this-viral-video-130938165.html',\n",
       " 'https://www.bhaskar.com/no-fake-news/news/muslim-youth-sahil-cut-hindu-girlfriends-body-into-pieces-and-kept-it-in-the-fridge-know-the-truth-130933746.html',\n",
       " 'https://www.bhaskar.com/no-fake-news/news/in-meerut-a-muslim-youth-was-thrashed-by-a-mob-for-indecent-behavior-with-women-know-the-truth-of-viral-video-130929399.html',\n",
       " 'https://www.bhaskar.com/no-fake-news/news/shah-rukh-khan-wore-a-bodysuit-to-show-off-his-abs-in-the-movie-pathan-know-the-truth-of-this-viral-photo-130920847.html',\n",
       " 'https://www.bhaskar.com/no-fake-news/news/did-the-birds-warn-about-the-earthquake-in-turkey-thousands-of-birds-came-in-front-of-the-vehicles-know-the-truth-of-viral-video-130907837.html',\n",
       " 'https://www.bhaskar.com/no-fake-news/news/photo-viral-in-the-name-of-earthquake-in-turkey-pet-dog-sitting-near-the-dead-body-of-a-child-buried-in-debris-know-its-truth-130895088.html',\n",
       " 'https://www.bhaskar.com/no-fake-news/news/videos-went-viral-in-the-name-of-earthquake-in-turkey-12-storey-building-collapsed-in-a-few-seconds-know-their-truth-130890448.html',\n",
       " 'https://www.bhaskar.com/no-fake-news/news/effect-of-hindenburg-report-protest-against-adani-in-australia-know-the-truth-of-this-viral-photo-130874259.html',\n",
       " 'https://www.bhaskar.com/no-fake-news/news/dalit-woman-assaulted-in-up-people-beat-him-with-sticks-when-he-bathed-in-the-river-know-the-truth-of-this-viral-video-130873827.html',\n",
       " 'https://www.bhaskar.com/no-fake-news/news/the-audience-who-came-out-after-watching-the-film-pathan-said-utter-nonsense-know-the-truth-of-this-viral-video-130846660.html',\n",
       " 'https://www.bhaskar.com/no-fake-news/news/claim-the-country-is-suffering-from-poverty-bilawal-bhutto-is-dancing-with-the-girl-know-the-truth-130827104.html',\n",
       " 'https://www.bhaskar.com/no-fake-news/news/video-of-plane-crash-went-viral-in-the-name-of-nepal-plane-crash-know-its-truth-130810498.html',\n",
       " 'https://www.bhaskar.com/no-fake-news/news/3-year-old-girl-flew-in-the-air-with-a-kite-in-ahmedabad-know-the-truth-of-this-viral-video-130805847.html',\n",
       " 'https://www.bhaskar.com/no-fake-news/news/old-photo-being-shared-on-social-media-as-current-know-the-truth-of-these-pictures-130801776.html',\n",
       " 'https://www.bhaskar.com/no-fake-news/news/people-occupied-the-railway-track-in-haldwani-know-the-truth-of-this-viral-photo-130795153.html',\n",
       " 'https://www.bhaskar.com/no-fake-news/news/the-picture-of-landslide-in-the-name-of-joshimath-went-viral-users-requested-for-help-by-sharing-know-the-truth-of-this-photo-130791374.html',\n",
       " 'https://www.bhaskar.com/no-fake-news/news/is-asi-shambhudayals-killer-anish-muslim-know-the-truth-of-this-claim-130787389.html',\n",
       " 'https://www.bhaskar.com/no-fake-news/news/viral-picture-of-rahul-gandhi-with-a-glass-of-wine-and-chicken-know-its-truth-130782950.html',\n",
       " 'https://www.bhaskar.com/no-fake-news/news/muslim-youth-kicked-down-the-picture-of-goddess-saraswati-know-the-truth-of-this-viral-video-130775385.html',\n",
       " 'https://www.bhaskar.com/no-fake-news/news/uttarakhand-haldwani-railway-land-encroachment-video-viral-130763275.html',\n",
       " 'https://www.bhaskar.com/no-fake-news/news/many-cars-collided-with-each-other-on-the-road-due-to-fog-know-the-truth-of-this-viral-video-130759341.html',\n",
       " 'https://www.bhaskar.com/no-fake-news/news/trailer-of-shah-rukh-khan-starrer-film-pathan-leaked-know-the-truth-of-the-video-130756081.html',\n",
       " 'https://www.bhaskar.com/no-fake-news/news/youth-ran-away-after-looting-cash-from-rishabh-pants-car-after-the-accident-know-the-truth-130751792.html',\n",
       " 'https://www.bhaskar.com/no-fake-news/news/muslim-youth-beats-hindu-girlfriend-by-slamming-her-on-the-ground-know-the-truth-of-viral-video-130730424.html',\n",
       " 'https://www.bhaskar.com/no-fake-news/news/heavy-traffic-jam-in-manali-due-to-new-year-holidays-know-the-truth-of-viral-photo-130726910.html',\n",
       " 'https://www.bhaskar.com/no-fake-news/news/people-dragged-away-muslims-who-were-offering-namaz-on-the-road-in-france-know-the-truth-of-viral-video-130726627.html',\n",
       " 'https://www.bhaskar.com/no-fake-news/news/picture-of-damaged-bus-viral-as-army-truck-accident-in-sikkim-know-the-truth-of-this-photo-130714999.html',\n",
       " 'https://www.bhaskar.com/no-fake-news/news/omicron-xxb-the-deadliest-variant-ever-5-times-more-deaths-know-the-truth-of-this-viral-message-130710194.html',\n",
       " 'https://www.bhaskar.com/no-fake-news/news/pm-modi-said-in-support-of-the-film-pathan-i-am-pathans-child-i-speak-the-truth-i-do-the-truth-know-the-truth-130706152.html',\n",
       " 'https://www.bhaskar.com/no-fake-news/news/deepika-padukone-got-emotional-about-the-protest-against-the-film-pathan-know-the-truth-of-this-video-130698553.html',\n",
       " 'https://www.bhaskar.com/no-fake-news/news/52-year-old-woman-married-to-21-year-old-boy-know-the-truth-of-this-viral-video-130686924.html',\n",
       " 'https://www.bhaskar.com/no-fake-news/news/video-went-viral-in-the-name-of-clash-with-chinese-soldiers-in-tawang-know-its-truth-130683228.html',\n",
       " 'https://www.bhaskar.com/no-fake-news/news/chinese-soldiers-seriously-injured-in-the-skirmish-in-arunachal-know-the-truth-of-this-viral-video-130678612.html',\n",
       " 'https://www.bhaskar.com/no-fake-news/news/crowd-gathered-in-rahul-gandhis-bharat-jodo-yatra-in-rajasthan-know-the-truth-of-this-viral-photo-130675678.html',\n",
       " 'https://www.bhaskar.com/no-fake-news/news/rahul-gandhi-gave-a-speech-even-when-the-mic-was-off-bjp-leader-trolled-know-the-truth-of-this-viral-video-130622322.html',\n",
       " 'https://www.bhaskar.com/no-fake-news/news/after-winning-the-match-against-argentina-in-the-fifa-world-cup-the-players-of-saudi-arabia-will-get-a-rolls-royce-car-as-a-gift-know-the-truth-130617635.html',\n",
       " 'https://www.bhaskar.com/no-fake-news/news/rashid-khan-of-bulandshahr-supported-aftab-in-shraddha-murder-case-know-the-truth-of-this-viral-video-130606992.html',\n",
       " 'https://www.bhaskar.com/no-fake-news/news/due-to-rahul-gandhi-in-gujarat-the-translator-ran-away-from-the-stage-during-the-speech-know-the-truth-of-this-viral-video-130602687.html',\n",
       " 'https://www.bhaskar.com/no-fake-news/news/another-hindu-girl-victim-of-love-jihad-dead-body-found-in-suitcase-know-the-truth-of-this-viral-photo-130597852.html',\n",
       " 'https://www.bhaskar.com/no-fake-news/news/woman-slaps-french-president-emmanuel-macron-know-the-truth-of-this-viral-video-130594727.html',\n",
       " 'https://www.bhaskar.com/no-fake-news/news/crowd-gathered-at-aap-leaders-rally-in-gujarat-know-the-truth-of-this-viral-photo-130578884.html',\n",
       " 'https://www.bhaskar.com/no-fake-news/news/by-slitting-the-throat-of-the-hindu-girlfriend-the-muslim-youth-said-not-to-commit-infidelity-know-the-truth-of-this-viral-video-130577908.html',\n",
       " 'https://www.bhaskar.com/no-fake-news/news/video-of-two-punjab-girls-taking-drugs-went-viral-users-blamed-the-punjab-government-know-the-truth-of-this-video-130574540.html',\n",
       " 'https://www.bhaskar.com/no-fake-news/news/virat-kohli-supported-bharat-jodo-yatra-by-wearing-a-t-shirt-know-the-truth-of-this-viral-photo-130569631.html',\n",
       " 'https://www.bhaskar.com/no-fake-news/news/shahrukh-khan-was-stopped-by-the-customs-department-at-mumbai-airport-the-picture-went-viral-know-the-truth-of-this-photo-130565321.html',\n",
       " 'https://www.bhaskar.com/no-fake-news/news/pm-modi-made-fun-of-people-who-were-upset-due-to-demonetisation-know-the-truth-of-this-viral-video-130553768.html',\n",
       " 'https://www.bhaskar.com/no-fake-news/news/american-rapper-drake-pays-tribute-to-lata-mangeshkar-by-playing-didi-tera-devar-deewana-song-know-the-truth-of-the-viral-video-130549573.html',\n",
       " 'https://www.bhaskar.com/no-fake-news/news/people-gathered-in-gujarat-to-see-arvind-kejriwal-and-bhagwant-know-the-truth-of-this-viral-photo-130549035.html',\n",
       " 'https://www.bhaskar.com/no-fake-news/news/cctv-footage-of-delhi-earthquake-went-viral-know-its-truth-130545406.html',\n",
       " 'https://www.bhaskar.com/no-fake-news/news/bjp-leader-said-maharana-prataps-father-was-a-bjp-worker-know-the-truth-of-this-viral-video-130540414.html',\n",
       " 'https://www.bhaskar.com/no-fake-news/news/240-boats-twinkling-with-lights-were-floated-in-kerala-know-the-truth-of-this-viral-video-130536315.html',\n",
       " 'https://www.bhaskar.com/no-fake-news/news/imran-khan-seen-walking-in-the-hospital-even-after-being-shot-in-the-leg-know-the-truth-of-this-viral-video-130531714.html',\n",
       " 'https://www.bhaskar.com/no-fake-news/news/elon-musk-tweeted-in-bhojpuri-language-know-the-truth-of-this-viral-post-130523616.html',\n",
       " 'https://www.bhaskar.com/no-fake-news/news/imran-khan-fell-in-a-pool-of-blood-after-being-shot-know-the-truth-of-this-viral-photo-130519523.html',\n",
       " 'https://www.bhaskar.com/no-fake-news/news/youths-jumped-and-jumped-in-morbi-bridge-only-then-a-painful-accident-happened-know-the-truth-of-the-viral-video-130506296.html',\n",
       " 'https://www.bhaskar.com/no-fake-news/news/after-becoming-the-prime-minister-of-britain-rishi-sunak-lit-diyas-on-the-occasion-of-diwali-know-the-truth-of-this-viral-photo-130483880.html',\n",
       " 'https://www.bhaskar.com/no-fake-news/news/muslim-man-in-andhra-pradesh-vandalized-andhra-guntur-temple-know-the-truth-of-this-viral-video-130480517.html',\n",
       " 'https://www.bhaskar.com/no-fake-news/news/cm-shivraj-happy-to-see-police-raining-sticks-on-unemployed-youth-know-the-truth-of-this-viral-video-130475164.html']"
      ]
     },
     "execution_count": 51,
     "metadata": {},
     "output_type": "execute_result"
    }
   ],
   "source": [
    "links"
   ]
  },
  {
   "cell_type": "code",
   "execution_count": 53,
   "metadata": {},
   "outputs": [],
   "source": [
    "# now we have links to access the content of the news . \n",
    "# now need to extract that .\n",
    "\n",
    "news=[]\n",
    "lable_content=[]\n",
    "for url in links:\n",
    "    response=requests.get(url)\n",
    "    soup=BeautifulSoup(response.text,'html.parser')\n",
    "    article = soup.find('article',class_=\"bf64dc76\")\n",
    "    if article:\n",
    "        paragraphs = article.find_all('p')\n",
    "        lable_content.append(paragraphs[-2].get_text())\n",
    "        obj=\"\"\n",
    "        for p in paragraphs:\n",
    "            obj=obj+p.get_text()\n",
    "            \n",
    "        # print(obj)\n",
    "        news.append(obj)\n",
    "    # break\n"
   ]
  },
  {
   "cell_type": "code",
   "execution_count": 54,
   "metadata": {},
   "outputs": [
    {
     "name": "stdout",
     "output_type": "stream",
     "text": [
      "396\n",
      "396\n",
      "396\n"
     ]
    }
   ],
   "source": [
    "print(len(links))\n",
    "print(len(news))\n",
    "\n",
    "print(len(lable_content))"
   ]
  },
  {
   "cell_type": "code",
   "execution_count": 55,
   "metadata": {},
   "outputs": [],
   "source": [
    "df=pd.DataFrame({\"links\":links,\"news\":news,\"label\":lable_content})\n",
    "with open('dataframe.pkl', 'wb') as file:\n",
    "    pickle.dump(df, file)"
   ]
  },
  {
   "cell_type": "markdown",
   "metadata": {},
   "source": []
  },
  {
   "cell_type": "code",
   "execution_count": 102,
   "metadata": {},
   "outputs": [],
   "source": [
    "df=df[['links','news']]\n",
    "\n"
   ]
  },
  {
   "cell_type": "code",
   "execution_count": 105,
   "metadata": {},
   "outputs": [],
   "source": [
    "    fake_keywords = [\"भ्रामक\", \"असत्य\", \"गलत\", \"फर्जी\"]\n",
    "    def label_article(text):\n",
    "        return \"fake\" if any(pattern in text for pattern in fake_keywords) else \"unlabeled\"\n",
    "\n",
    "    \n",
    "    df[\"label\"]=df['news'].apply(label_article) "
   ]
  },
  {
   "cell_type": "code",
   "execution_count": 115,
   "metadata": {},
   "outputs": [
    {
     "data": {
      "text/plain": [
       "0          fake\n",
       "1          fake\n",
       "2          fake\n",
       "3          fake\n",
       "4          fake\n",
       "         ...   \n",
       "391    not fake\n",
       "392    not fake\n",
       "393    not fake\n",
       "394    not fake\n",
       "395    not fake\n",
       "Name: label, Length: 396, dtype: object"
      ]
     },
     "execution_count": 115,
     "metadata": {},
     "output_type": "execute_result"
    }
   ],
   "source": [
    "# df[\"label\"]\n",
    "df['label'] = df['label'].replace(\"unlabeled\", \"not fake\")\n",
    "df['label']"
   ]
  },
  {
   "cell_type": "code",
   "execution_count": 116,
   "metadata": {},
   "outputs": [
    {
     "name": "stderr",
     "output_type": "stream",
     "text": [
      "C:\\Users\\HP-PC\\AppData\\Local\\Packages\\PythonSoftwareFoundation.Python.3.11_qbz5n2kfra8p0\\LocalCache\\local-packages\\Python311\\site-packages\\transformers\\tokenization_utils_base.py:1601: FutureWarning: `clean_up_tokenization_spaces` was not set. It will be set to `True` by default. This behavior will be depracted in transformers v4.45, and will be then set to `False` by default. For more details check this issue: https://github.com/huggingface/transformers/issues/31884\n",
      "  warnings.warn(\n"
     ]
    }
   ],
   "source": [
    "from transformers import BertTokenizer, BertModel\n",
    "import torch\n",
    "\n",
    "# Load mBERT tokenizer and model\n",
    "tokenizer = BertTokenizer.from_pretrained('bert-base-multilingual-cased')\n",
    "model = BertModel.from_pretrained('bert-base-multilingual-cased')\n",
    "\n",
    "def get_embeddings(text):\n",
    "    inputs = tokenizer(text, return_tensors=\"pt\", truncation=True, padding=True)\n",
    "    with torch.no_grad():  # Disable gradients to speed up\n",
    "        outputs = model(**inputs)\n",
    "    # Use mean pooling on the last hidden state\n",
    "    embeddings = outputs.last_hidden_state.mean(dim=1).squeeze()\n",
    "    return embeddings\n",
    "\n",
    "# Apply to each news article\n",
    "df['embedding'] = df['news'].apply(get_embeddings)\n"
   ]
  },
  {
   "cell_type": "code",
   "execution_count": 117,
   "metadata": {},
   "outputs": [
    {
     "data": {
      "text/plain": [
       "0      [tensor(0.0049), tensor(-0.3701), tensor(0.509...\n",
       "1      [tensor(0.0049), tensor(-0.3701), tensor(0.509...\n",
       "2      [tensor(0.0162), tensor(-0.2782), tensor(0.411...\n",
       "3      [tensor(0.0162), tensor(-0.2782), tensor(0.411...\n",
       "4      [tensor(0.0060), tensor(-0.4367), tensor(0.428...\n",
       "                             ...                        \n",
       "391    [tensor(0.0725), tensor(-0.2730), tensor(0.306...\n",
       "392    [tensor(-0.1211), tensor(-0.2924), tensor(0.10...\n",
       "393    [tensor(0.0029), tensor(-0.2508), tensor(0.463...\n",
       "394    [tensor(-0.0801), tensor(-0.3654), tensor(0.59...\n",
       "395    [tensor(-0.1328), tensor(-0.2500), tensor(0.43...\n",
       "Name: embedding, Length: 396, dtype: object"
      ]
     },
     "execution_count": 117,
     "metadata": {},
     "output_type": "execute_result"
    }
   ],
   "source": [
    "df[\"embedding\"]"
   ]
  },
  {
   "cell_type": "code",
   "execution_count": 118,
   "metadata": {},
   "outputs": [
    {
     "data": {
      "text/plain": [
       "array([[ 0.00492613, -0.37013513,  0.5089685 , ...,  0.3846812 ,\n",
       "         0.03014933, -0.20442504],\n",
       "       [ 0.00492613, -0.37013513,  0.5089685 , ...,  0.3846812 ,\n",
       "         0.03014933, -0.20442504],\n",
       "       [ 0.01619319, -0.27822736,  0.4110629 , ...,  0.29438803,\n",
       "        -0.00066932, -0.1546514 ],\n",
       "       ...,\n",
       "       [ 0.00291384, -0.2507855 ,  0.46357644, ...,  0.29952186,\n",
       "        -0.11585846, -0.13697852],\n",
       "       [-0.0800753 , -0.3654394 ,  0.5903075 , ...,  0.27806515,\n",
       "         0.24303772, -0.22705522],\n",
       "       [-0.13276997, -0.2500233 ,  0.43708873, ...,  0.12718393,\n",
       "         0.14249454, -0.12156437]], dtype=float32)"
      ]
     },
     "execution_count": 118,
     "metadata": {},
     "output_type": "execute_result"
    }
   ],
   "source": [
    "embedding_matrix = np.stack(df['embedding'].values)\n",
    "embedding_matrix"
   ]
  },
  {
   "cell_type": "code",
   "execution_count": null,
   "metadata": {},
   "outputs": [
    {
     "name": "stdout",
     "output_type": "stream",
     "text": [
      "              precision    recall  f1-score   support\n",
      "\n",
      "        fake       0.85      1.00      0.92        58\n",
      "    not fake       1.00      0.55      0.71        22\n",
      "\n",
      "    accuracy                           0.88        80\n",
      "   macro avg       0.93      0.77      0.81        80\n",
      "weighted avg       0.89      0.88      0.86        80\n",
      "\n"
     ]
    }
   ],
   "source": [
    "from sklearn.model_selection import train_test_split\n",
    "from sklearn.linear_model import LogisticRegression\n",
    "from sklearn.metrics import classification_report\n",
    "\n",
    "# Split the data into training and testing sets\n",
    "X_train, X_test, y_train, y_test = train_test_split(embedding_matrix, df['label'], test_size=0.2, random_state=42)\n",
    "\n",
    "# Train a Logistic Regression model\n",
    "model = LogisticRegression(max_iter=1000)\n",
    "model.fit(X_train, y_train)\n",
    "\n",
    "# Evaluate the model\n",
    "y_pred = model.predict(X_test)\n",
    "print(classification_report(y_test, y_pred))\n"
   ]
  },
  {
   "cell_type": "code",
   "execution_count": 120,
   "metadata": {},
   "outputs": [],
   "source": [
    "# Predict probabilities for the \"not fake\" articles\n",
    "df_not_fake = df[df['label'] == 'not fake']\n",
    "not_fake_embeddings = np.stack(df_not_fake['embedding'].values)\n",
    "not_fake_probs = model.predict_proba(not_fake_embeddings)\n",
    "confidence_threshold = 0.8\n",
    "high_confidence_real = (not_fake_probs[:, model.classes_.tolist().index('not fake')] > confidence_threshold)\n",
    "\n",
    "# Label high-confidence \"not fake\" predictions as \"real\"\n",
    "df.loc[df_not_fake.index[high_confidence_real], 'label'] = 'real'\n",
    "\n"
   ]
  },
  {
   "cell_type": "code",
   "execution_count": 121,
   "metadata": {},
   "outputs": [
    {
     "data": {
      "text/plain": [
       "0          fake\n",
       "1          fake\n",
       "2          fake\n",
       "3          fake\n",
       "4          fake\n",
       "         ...   \n",
       "391        real\n",
       "392    not fake\n",
       "393        real\n",
       "394        real\n",
       "395    not fake\n",
       "Name: label, Length: 396, dtype: object"
      ]
     },
     "execution_count": 121,
     "metadata": {},
     "output_type": "execute_result"
    }
   ],
   "source": [
    "df['label']"
   ]
  },
  {
   "cell_type": "code",
   "execution_count": null,
   "metadata": {},
   "outputs": [
    {
     "name": "stdout",
     "output_type": "stream",
     "text": [
      "              precision    recall  f1-score   support\n",
      "\n",
      "        fake       0.85      1.00      0.92        58\n",
      "    not fake       0.00      0.00      0.00        12\n",
      "        real       0.83      1.00      0.91        10\n",
      "\n",
      "    accuracy                           0.85        80\n",
      "   macro avg       0.56      0.67      0.61        80\n",
      "weighted avg       0.72      0.85      0.78        80\n",
      "\n"
     ]
    },
    {
     "name": "stderr",
     "output_type": "stream",
     "text": [
      "C:\\Users\\HP-PC\\AppData\\Local\\Packages\\PythonSoftwareFoundation.Python.3.11_qbz5n2kfra8p0\\LocalCache\\local-packages\\Python311\\site-packages\\sklearn\\metrics\\_classification.py:1344: UndefinedMetricWarning: Precision and F-score are ill-defined and being set to 0.0 in labels with no predicted samples. Use `zero_division` parameter to control this behavior.\n",
      "  _warn_prf(average, modifier, msg_start, len(result))\n",
      "C:\\Users\\HP-PC\\AppData\\Local\\Packages\\PythonSoftwareFoundation.Python.3.11_qbz5n2kfra8p0\\LocalCache\\local-packages\\Python311\\site-packages\\sklearn\\metrics\\_classification.py:1344: UndefinedMetricWarning: Precision and F-score are ill-defined and being set to 0.0 in labels with no predicted samples. Use `zero_division` parameter to control this behavior.\n",
      "  _warn_prf(average, modifier, msg_start, len(result))\n",
      "C:\\Users\\HP-PC\\AppData\\Local\\Packages\\PythonSoftwareFoundation.Python.3.11_qbz5n2kfra8p0\\LocalCache\\local-packages\\Python311\\site-packages\\sklearn\\metrics\\_classification.py:1344: UndefinedMetricWarning: Precision and F-score are ill-defined and being set to 0.0 in labels with no predicted samples. Use `zero_division` parameter to control this behavior.\n",
      "  _warn_prf(average, modifier, msg_start, len(result))\n"
     ]
    }
   ],
   "source": [
    "\n",
    "X_train, X_test, y_train, y_test = train_test_split(\n",
    "    np.stack(df['embedding'].values),\n",
    "    df['label'],\n",
    "    test_size=0.2,\n",
    "    random_state=42\n",
    ")\n",
    "model = LogisticRegression(max_iter=1000)\n",
    "model.fit(X_train, y_train)\n",
    "\n",
    "y_pred = model.predict(X_test)\n",
    "print(classification_report(y_test, y_pred))"
   ]
  },
  {
   "cell_type": "code",
   "execution_count": 126,
   "metadata": {},
   "outputs": [
    {
     "data": {
      "text/plain": [
       "label\n",
       "fake        266\n",
       "not fake     65\n",
       "real         65\n",
       "Name: count, dtype: int64"
      ]
     },
     "execution_count": 126,
     "metadata": {},
     "output_type": "execute_result"
    }
   ],
   "source": [
    "df['label'].value_counts()"
   ]
  },
  {
   "cell_type": "code",
   "execution_count": null,
   "metadata": {},
   "outputs": [],
   "source": [
    "# Steps to Fine-Tune BERT with the Updated Dataset\n",
    "# Preprocess the Data: Convert your textual data into the format required by BERT.\n",
    "# Prepare the Dataset: Convert your text data into tokenized input suitable for BERT.\n",
    "# Fine-Tune BERT: Fine-tune the BERT model with your labeled data (now containing only \"fake\" and \"real\" labels).\n",
    "# Evaluate the Model: Check the accuracy of the fine-tuned model."
   ]
  },
  {
   "cell_type": "code",
   "execution_count": 127,
   "metadata": {},
   "outputs": [
    {
     "name": "stdout",
     "output_type": "stream",
     "text": [
      "label\n",
      "fake    266\n",
      "real    130\n",
      "Name: count, dtype: int64\n"
     ]
    }
   ],
   "source": [
    "# Convert \"not fake\" to \"real\"\n",
    "df['label'] = df['label'].replace(\"not fake\", \"real\")\n",
    "\n",
    "# Ensure that we now only have \"fake\" and \"real\" labels\n",
    "print(df['label'].value_counts())\n"
   ]
  },
  {
   "cell_type": "code",
   "execution_count": 129,
   "metadata": {},
   "outputs": [
    {
     "data": {
      "text/html": [
       "<div>\n",
       "<style scoped>\n",
       "    .dataframe tbody tr th:only-of-type {\n",
       "        vertical-align: middle;\n",
       "    }\n",
       "\n",
       "    .dataframe tbody tr th {\n",
       "        vertical-align: top;\n",
       "    }\n",
       "\n",
       "    .dataframe thead th {\n",
       "        text-align: right;\n",
       "    }\n",
       "</style>\n",
       "<table border=\"1\" class=\"dataframe\">\n",
       "  <thead>\n",
       "    <tr style=\"text-align: right;\">\n",
       "      <th></th>\n",
       "      <th>links</th>\n",
       "      <th>news</th>\n",
       "      <th>label</th>\n",
       "      <th>embedding</th>\n",
       "    </tr>\n",
       "  </thead>\n",
       "  <tbody>\n",
       "    <tr>\n",
       "      <th>0</th>\n",
       "      <td>https://www.bhaskar.com/no-fake-news/news/dona...</td>\n",
       "      <td>बुधवार यानी 6 नवंबर को अमेरिकी राष्ट्रपति चुना...</td>\n",
       "      <td>fake</td>\n",
       "      <td>[tensor(0.0049), tensor(-0.3701), tensor(0.509...</td>\n",
       "    </tr>\n",
       "    <tr>\n",
       "      <th>1</th>\n",
       "      <td>https://www.bhaskar.com/no-fake-news/news/dona...</td>\n",
       "      <td>बुधवार यानी 6 नवंबर को अमेरिकी राष्ट्रपति चुना...</td>\n",
       "      <td>fake</td>\n",
       "      <td>[tensor(0.0049), tensor(-0.3701), tensor(0.509...</td>\n",
       "    </tr>\n",
       "    <tr>\n",
       "      <th>2</th>\n",
       "      <td>https://www.bhaskar.com/no-fake-news/news/dona...</td>\n",
       "      <td>अमेरिका में बुधवार को आए राष्ट्रपति चुनाव के न...</td>\n",
       "      <td>fake</td>\n",
       "      <td>[tensor(0.0162), tensor(-0.2782), tensor(0.411...</td>\n",
       "    </tr>\n",
       "    <tr>\n",
       "      <th>3</th>\n",
       "      <td>https://www.bhaskar.com/no-fake-news/news/dona...</td>\n",
       "      <td>अमेरिका में बुधवार को आए राष्ट्रपति चुनाव के न...</td>\n",
       "      <td>fake</td>\n",
       "      <td>[tensor(0.0162), tensor(-0.2782), tensor(0.411...</td>\n",
       "    </tr>\n",
       "    <tr>\n",
       "      <th>4</th>\n",
       "      <td>https://www.bhaskar.com/no-fake-news/news/afte...</td>\n",
       "      <td>भारत-चीन के बीच वास्तविक नियंत्रण रेखा (LAC) प...</td>\n",
       "      <td>fake</td>\n",
       "      <td>[tensor(0.0060), tensor(-0.4367), tensor(0.428...</td>\n",
       "    </tr>\n",
       "    <tr>\n",
       "      <th>...</th>\n",
       "      <td>...</td>\n",
       "      <td>...</td>\n",
       "      <td>...</td>\n",
       "      <td>...</td>\n",
       "    </tr>\n",
       "    <tr>\n",
       "      <th>391</th>\n",
       "      <td>https://www.bhaskar.com/no-fake-news/news/imra...</td>\n",
       "      <td>क्या हो रहा है वायरल : पाकिस्तान के गुजरांवाला...</td>\n",
       "      <td>real</td>\n",
       "      <td>[tensor(0.0725), tensor(-0.2730), tensor(0.306...</td>\n",
       "    </tr>\n",
       "    <tr>\n",
       "      <th>392</th>\n",
       "      <td>https://www.bhaskar.com/no-fake-news/news/yout...</td>\n",
       "      <td>क्या हो रहा है वायरल : गुजरात के मोरबी में बीत...</td>\n",
       "      <td>real</td>\n",
       "      <td>[tensor(-0.1211), tensor(-0.2924), tensor(0.10...</td>\n",
       "    </tr>\n",
       "    <tr>\n",
       "      <th>393</th>\n",
       "      <td>https://www.bhaskar.com/no-fake-news/news/afte...</td>\n",
       "      <td>क्या हो रहा है वायरल : भारतीय मूल के ऋषि सुनक ...</td>\n",
       "      <td>real</td>\n",
       "      <td>[tensor(0.0029), tensor(-0.2508), tensor(0.463...</td>\n",
       "    </tr>\n",
       "    <tr>\n",
       "      <th>394</th>\n",
       "      <td>https://www.bhaskar.com/no-fake-news/news/musl...</td>\n",
       "      <td>क्या हो रहा है वायरल : सोशल मीडिया पर एक वीडिय...</td>\n",
       "      <td>real</td>\n",
       "      <td>[tensor(-0.0801), tensor(-0.3654), tensor(0.59...</td>\n",
       "    </tr>\n",
       "    <tr>\n",
       "      <th>395</th>\n",
       "      <td>https://www.bhaskar.com/no-fake-news/news/cm-s...</td>\n",
       "      <td>क्या हो रहा है वायरल : सोशल मीडिया पर मध्यप्रद...</td>\n",
       "      <td>real</td>\n",
       "      <td>[tensor(-0.1328), tensor(-0.2500), tensor(0.43...</td>\n",
       "    </tr>\n",
       "  </tbody>\n",
       "</table>\n",
       "<p>396 rows × 4 columns</p>\n",
       "</div>"
      ],
      "text/plain": [
       "                                                 links  \\\n",
       "0    https://www.bhaskar.com/no-fake-news/news/dona...   \n",
       "1    https://www.bhaskar.com/no-fake-news/news/dona...   \n",
       "2    https://www.bhaskar.com/no-fake-news/news/dona...   \n",
       "3    https://www.bhaskar.com/no-fake-news/news/dona...   \n",
       "4    https://www.bhaskar.com/no-fake-news/news/afte...   \n",
       "..                                                 ...   \n",
       "391  https://www.bhaskar.com/no-fake-news/news/imra...   \n",
       "392  https://www.bhaskar.com/no-fake-news/news/yout...   \n",
       "393  https://www.bhaskar.com/no-fake-news/news/afte...   \n",
       "394  https://www.bhaskar.com/no-fake-news/news/musl...   \n",
       "395  https://www.bhaskar.com/no-fake-news/news/cm-s...   \n",
       "\n",
       "                                                  news label  \\\n",
       "0    बुधवार यानी 6 नवंबर को अमेरिकी राष्ट्रपति चुना...  fake   \n",
       "1    बुधवार यानी 6 नवंबर को अमेरिकी राष्ट्रपति चुना...  fake   \n",
       "2    अमेरिका में बुधवार को आए राष्ट्रपति चुनाव के न...  fake   \n",
       "3    अमेरिका में बुधवार को आए राष्ट्रपति चुनाव के न...  fake   \n",
       "4    भारत-चीन के बीच वास्तविक नियंत्रण रेखा (LAC) प...  fake   \n",
       "..                                                 ...   ...   \n",
       "391  क्या हो रहा है वायरल : पाकिस्तान के गुजरांवाला...  real   \n",
       "392  क्या हो रहा है वायरल : गुजरात के मोरबी में बीत...  real   \n",
       "393  क्या हो रहा है वायरल : भारतीय मूल के ऋषि सुनक ...  real   \n",
       "394  क्या हो रहा है वायरल : सोशल मीडिया पर एक वीडिय...  real   \n",
       "395  क्या हो रहा है वायरल : सोशल मीडिया पर मध्यप्रद...  real   \n",
       "\n",
       "                                             embedding  \n",
       "0    [tensor(0.0049), tensor(-0.3701), tensor(0.509...  \n",
       "1    [tensor(0.0049), tensor(-0.3701), tensor(0.509...  \n",
       "2    [tensor(0.0162), tensor(-0.2782), tensor(0.411...  \n",
       "3    [tensor(0.0162), tensor(-0.2782), tensor(0.411...  \n",
       "4    [tensor(0.0060), tensor(-0.4367), tensor(0.428...  \n",
       "..                                                 ...  \n",
       "391  [tensor(0.0725), tensor(-0.2730), tensor(0.306...  \n",
       "392  [tensor(-0.1211), tensor(-0.2924), tensor(0.10...  \n",
       "393  [tensor(0.0029), tensor(-0.2508), tensor(0.463...  \n",
       "394  [tensor(-0.0801), tensor(-0.3654), tensor(0.59...  \n",
       "395  [tensor(-0.1328), tensor(-0.2500), tensor(0.43...  \n",
       "\n",
       "[396 rows x 4 columns]"
      ]
     },
     "execution_count": 129,
     "metadata": {},
     "output_type": "execute_result"
    }
   ],
   "source": [
    "df"
   ]
  },
  {
   "cell_type": "code",
   "execution_count": null,
   "metadata": {},
   "outputs": [],
   "source": [
    "from sklearn.model_selection import train_test_split\n",
    "\n",
    "# Split the dataset into train and validation\n",
    "train_df, val_df = train_test_split(df, test_size=0.2, stratify=df['label'], random_state=42)\n",
    "\n",
    "# Define a function to create PyTorch datasets\n",
    "# This is required for the fine tunning of the model .\n",
    "class NewsDataset(torch.utils.data.Dataset):\n",
    "    def __init__(self, df, tokenizer):\n",
    "        self.encodings = tokenizer(df['news'].tolist(), truncation=True, padding=True, max_length=512)\n",
    "        self.labels = df['label'].apply(lambda x: 1 if x == 'real' else 0).tolist()  # 1 for 'real', 0 for 'fake'\n",
    "\n",
    "    def __getitem__(self, idx):\n",
    "        item = {key: torch.tensor(val[idx]) for key, val in self.encodings.items()}\n",
    "        item['labels'] = torch.tensor(self.labels[idx])\n",
    "        return item\n",
    "    def __len__(self):\n",
    "        return len(self.labels)\n",
    "\n",
    "# Create datasets\n",
    "train_dataset = NewsDataset(train_df, tokenizer)\n",
    "val_dataset = NewsDataset(val_df, tokenizer)\n"
   ]
  },
  {
   "cell_type": "code",
   "execution_count": 133,
   "metadata": {},
   "outputs": [],
   "source": [
    "# train_dataset[0]"
   ]
  },
  {
   "cell_type": "code",
   "execution_count": null,
   "metadata": {},
   "outputs": [
    {
     "name": "stderr",
     "output_type": "stream",
     "text": [
      "Some weights of BertForSequenceClassification were not initialized from the model checkpoint at bert-base-multilingual-cased and are newly initialized: ['classifier.bias', 'classifier.weight']\n",
      "You should probably TRAIN this model on a down-stream task to be able to use it for predictions and inference.\n",
      "C:\\Users\\HP-PC\\AppData\\Local\\Packages\\PythonSoftwareFoundation.Python.3.11_qbz5n2kfra8p0\\LocalCache\\local-packages\\Python311\\site-packages\\transformers\\training_args.py:1525: FutureWarning: `evaluation_strategy` is deprecated and will be removed in version 4.46 of 🤗 Transformers. Use `eval_strategy` instead\n",
      "  warnings.warn(\n"
     ]
    },
    {
     "data": {
      "application/vnd.jupyter.widget-view+json": {
       "model_id": "1416c14d93034cd0b859171175bc980e",
       "version_major": 2,
       "version_minor": 0
      },
      "text/plain": [
       "  0%|          | 0/120 [00:00<?, ?it/s]"
      ]
     },
     "metadata": {},
     "output_type": "display_data"
    },
    {
     "data": {
      "application/vnd.jupyter.widget-view+json": {
       "model_id": "e0e0d8d68b8b498db941f02d756c7229",
       "version_major": 2,
       "version_minor": 0
      },
      "text/plain": [
       "  0%|          | 0/10 [00:00<?, ?it/s]"
      ]
     },
     "metadata": {},
     "output_type": "display_data"
    },
    {
     "name": "stdout",
     "output_type": "stream",
     "text": [
      "{'eval_loss': 0.4566064774990082, 'eval_runtime': 36.9424, 'eval_samples_per_second': 2.166, 'eval_steps_per_second': 0.271, 'epoch': 1.0}\n"
     ]
    },
    {
     "data": {
      "application/vnd.jupyter.widget-view+json": {
       "model_id": "0ce00316b25a45259d3af20c66df4355",
       "version_major": 2,
       "version_minor": 0
      },
      "text/plain": [
       "  0%|          | 0/10 [00:00<?, ?it/s]"
      ]
     },
     "metadata": {},
     "output_type": "display_data"
    },
    {
     "name": "stdout",
     "output_type": "stream",
     "text": [
      "{'eval_loss': 0.48033007979393005, 'eval_runtime': 37.024, 'eval_samples_per_second': 2.161, 'eval_steps_per_second': 0.27, 'epoch': 2.0}\n"
     ]
    },
    {
     "data": {
      "application/vnd.jupyter.widget-view+json": {
       "model_id": "ed73d509929c45c9ae4f31b58354b0de",
       "version_major": 2,
       "version_minor": 0
      },
      "text/plain": [
       "  0%|          | 0/10 [00:00<?, ?it/s]"
      ]
     },
     "metadata": {},
     "output_type": "display_data"
    },
    {
     "name": "stdout",
     "output_type": "stream",
     "text": [
      "{'eval_loss': 0.4491804242134094, 'eval_runtime': 36.1922, 'eval_samples_per_second': 2.21, 'eval_steps_per_second': 0.276, 'epoch': 3.0}\n",
      "{'train_runtime': 1823.0321, 'train_samples_per_second': 0.52, 'train_steps_per_second': 0.066, 'train_loss': 0.4389945983886719, 'epoch': 3.0}\n"
     ]
    },
    {
     "data": {
      "text/plain": [
       "TrainOutput(global_step=120, training_loss=0.4389945983886719, metrics={'train_runtime': 1823.0321, 'train_samples_per_second': 0.52, 'train_steps_per_second': 0.066, 'total_flos': 249429280481280.0, 'train_loss': 0.4389945983886719, 'epoch': 3.0})"
      ]
     },
     "execution_count": 136,
     "metadata": {},
     "output_type": "execute_result"
    }
   ],
   "source": [
    "from transformers import BertForSequenceClassification, Trainer, TrainingArguments\n",
    "\n",
    "\n",
    "model = BertForSequenceClassification.from_pretrained('bert-base-multilingual-cased', num_labels=2)\n",
    "\n",
    "# Set up training arguments\n",
    "training_args = TrainingArguments(\n",
    "    output_dir='./results',          # Output directory to save model\n",
    "    evaluation_strategy=\"epoch\",     # Evaluate the model after each epoch\n",
    "    learning_rate=2e-5,              # Learning rate\n",
    "    per_device_train_batch_size=8,   # Batch size for training\n",
    "    per_device_eval_batch_size=8,    # Batch size for evaluation\n",
    "    num_train_epochs=3,              # Number of training epochs\n",
    "    weight_decay=0.01,               # Weight decay to avoid overfitting\n",
    ")\n",
    "\n",
    "# Initialize the Trainer API with the model, training arguments, and dataset\n",
    "trainer = Trainer(\n",
    "    model=model,                         # The model to train\n",
    "    args=training_args,                  # Training arguments\n",
    "    train_dataset=train_dataset,         # Training dataset\n",
    "    eval_dataset=val_dataset             # Validation dataset\n",
    ")\n",
    "\n",
    "# Train the model\n",
    "trainer.train()\n"
   ]
  },
  {
   "cell_type": "code",
   "execution_count": 137,
   "metadata": {},
   "outputs": [
    {
     "data": {
      "application/vnd.jupyter.widget-view+json": {
       "model_id": "bbe99da2b100445fbc273c478b55703f",
       "version_major": 2,
       "version_minor": 0
      },
      "text/plain": [
       "  0%|          | 0/10 [00:00<?, ?it/s]"
      ]
     },
     "metadata": {},
     "output_type": "display_data"
    },
    {
     "name": "stdout",
     "output_type": "stream",
     "text": [
      "{'eval_loss': 0.4491804242134094, 'eval_runtime': 41.4147, 'eval_samples_per_second': 1.932, 'eval_steps_per_second': 0.241, 'epoch': 3.0}\n"
     ]
    }
   ],
   "source": [
    "# Evaluate the model on the validation set\n",
    "eval_results = trainer.evaluate()\n",
    "print(eval_results)\n"
   ]
  },
  {
   "cell_type": "code",
   "execution_count": null,
   "metadata": {},
   "outputs": [
    {
     "name": "stdout",
     "output_type": "stream",
     "text": [
      "The article is classified as: fake\n"
     ]
    }
   ],
   "source": [
    "\n",
    "def predict(text):\n",
    "    # Preprocess the input text by tokenizing it\n",
    "    encoding = tokenizer(text, return_tensors='pt', truncation=True, padding=True, max_length=512)\n",
    "    \n",
    "    # Perform inference using the fine-tuned model\n",
    "    with torch.no_grad():  # No need to compute gradients during inference\n",
    "        outputs = model(**encoding)\n",
    "    \n",
    "    logits = outputs.logits\n",
    "    \n",
    "    # Get the predicted class (0 or 1)\n",
    "    predicted_class = torch.argmax(logits, dim=-1)\n",
    "    \n",
    "    # Return the prediction as 'real' or 'fake'\n",
    "    if predicted_class == 1:\n",
    "        return \"real\"\n",
    "    else:\n",
    "        return \"fake\"\n",
    "\n",
    "# Example usage\n",
    "article = \"क्या सलमान खान ने लॉरेंस को जवाब दिया है? दरअसल, पिछले दिनों हुए एनसीपी नेता बाबा सिद्दीकी के मर्डर की जिम्मेदारी लॉरेंस गैंग ने ली है। सलमान खान पहले से ही लॉरेंस गैंग के निशाने पर हैं।वेरिफाइड एक्स यूजर डॉ. शीतल यादव ने अपने ट्वीट में लिखा-सलमान खान ने साफ शब्दों में लॉरेंस को जवाब दिया है। 'भिड़ोगे तो मिट जाओगे'। (अर्काइव ट्वीट)देखें ट्वीट:खबर लिखे जाने तक डॉ. शीतल यादव के इस ट्वीट को 19 हजार लोग लाइक कर चुके थे वहीं, 3300 लोगों ने इसे रीपोस्ट किया था। एक्स पर डॉ. शीतल यादव को 24 हजार यूजर्स फॉलो करते हैं।एक्स हैंडल, बेवजह-के-ख़याल ने भी वायरल वीडियो को ट्वीट करते हुए लिखा- 'सलमान खान का पैगाम लॉरेंस बिश्नोई को'। (अर्काइव लिंक)देखें ट्वीट:वहीं, वेरिफाइड एक्स यूजर अभिषेक गुप्ता ने अपने ट्वीट में लिखा-सलमान खान ने अब लॉरेंस बिश्नोई को धमकी दी है कि तुम्हारे परिवार को कौन बचाएगा , सलमान खान गुंडों और माफियाओं की तरह क्यों धमकी दे रहा है ..... । (अर्काइव ट्वीट)देखें ट्वीट:क्या है वायरल वीडियो का सच ?हमारी पड़ताल में सामने आया कि सलमान खान का यह वीडियो हाल का नहीं बल्कि 4 साल पुराना है। वीडियो कोरोना महामारी के समय का है, तब एक्टर ने लोगों से घर पर रहने और पूरी सावधानी बरतने की अपील की थी। पड़ताल के दौरान हमें यह वीडियो Sansad TV के आधिकारिक यूट्यूब चैनल पर मिला।देखें वीडियो:इस वीडियो को 16 अप्रैल 2020 को अपलोड किया गया था। कुल 2:16 मिनट के इस वीडियो में वायरल हिस्सा 1 मिनट 38 सेकेंड से सुना जा सकता है। स्पष्ट है कि सलमान खान को लेकर किया जा रहा दावा पूरी तरह से गलत और भ्रामक है।फेक न्यूज के खिलाफ हमारे साथ जुड़ें। कोई भी ऐसी सूचना जिस पर आपको संदेह हो तो हमें ईमेल करें @fakenewsexpose@dbcorp.in और वॉट्सऐप करें- 9201776050\"\n",
    "prediction = predict(article)\n",
    "print(f\"The article is classified as: {prediction}\")"
   ]
  },
  {
   "cell_type": "code",
   "execution_count": 138,
   "metadata": {},
   "outputs": [
    {
     "data": {
      "text/plain": [
       "\"क्या सलमान खान ने लॉरेंस को जवाब दिया है? दरअसल, पिछले दिनों हुए एनसीपी नेता बाबा सिद्दीकी के मर्डर की जिम्मेदारी लॉरेंस गैंग ने ली है। सलमान खान पहले से ही लॉरेंस गैंग के निशाने पर हैं।वेरिफाइड एक्स यूजर डॉ. शीतल यादव ने अपने ट्वीट में लिखा-सलमान खान ने साफ शब्दों में लॉरेंस को जवाब दिया है। 'भिड़ोगे तो मिट जाओगे'। (अर्काइव ट्वीट)देखें ट्वीट:खबर लिखे जाने तक डॉ. शीतल यादव के इस ट्वीट को 19 हजार लोग लाइक कर चुके थे वहीं, 3300 लोगों ने इसे रीपोस्ट किया था। एक्स पर डॉ. शीतल यादव को 24 हजार यूजर्स फॉलो करते हैं।एक्स हैंडल, बेवजह-के-ख़याल ने भी वायरल वीडियो को ट्वीट करते हुए लिखा- 'सलमान खान का पैगाम लॉरेंस बिश्नोई को'। (अर्काइव लिंक)देखें ट्वीट:वहीं, वेरिफाइड एक्स यूजर अभिषेक गुप्ता ने अपने ट्वीट में लिखा-सलमान खान ने अब लॉरेंस बिश्नोई को धमकी दी है कि तुम्हारे परिवार को कौन बचाएगा , सलमान खान गुंडों और माफियाओं की तरह क्यों धमकी दे रहा है ..... । (अर्काइव ट्वीट)देखें ट्वीट:क्या है वायरल वीडियो का सच ?हमारी पड़ताल में सामने आया कि सलमान खान का यह वीडियो हाल का नहीं बल्कि 4 साल पुराना है। वीडियो कोरोना महामारी के समय का है, तब एक्टर ने लोगों से घर पर रहने और पूरी सावधानी बरतने की अपील की थी। पड़ताल के दौरान हमें यह वीडियो Sansad TV के आधिकारिक यूट्यूब चैनल पर मिला।देखें वीडियो:इस वीडियो को 16 अप्रैल 2020 को अपलोड किया गया था। कुल 2:16 मिनट के इस वीडियो में वायरल हिस्सा 1 मिनट 38 सेकेंड से सुना जा सकता है। स्पष्ट है कि सलमान खान को लेकर किया जा रहा दावा पूरी तरह से गलत और भ्रामक है।फेक न्यूज के खिलाफ हमारे साथ जुड़ें। कोई भी ऐसी सूचना जिस पर आपको संदेह हो तो हमें ईमेल करें @fakenewsexpose@dbcorp.in और वॉट्सऐप करें- 9201776050\""
      ]
     },
     "execution_count": 138,
     "metadata": {},
     "output_type": "execute_result"
    }
   ],
   "source": [
    "df[\"news\"][9]"
   ]
  },
  {
   "cell_type": "code",
   "execution_count": 140,
   "metadata": {},
   "outputs": [
    {
     "data": {
      "text/plain": [
       "('D:\\\\Desktop\\\\FakeNews\\\\model\\\\tokenizer_config.json',\n",
       " 'D:\\\\Desktop\\\\FakeNews\\\\model\\\\special_tokens_map.json',\n",
       " 'D:\\\\Desktop\\\\FakeNews\\\\model\\\\vocab.txt',\n",
       " 'D:\\\\Desktop\\\\FakeNews\\\\model\\\\added_tokens.json')"
      ]
     },
     "execution_count": 140,
     "metadata": {},
     "output_type": "execute_result"
    }
   ],
   "source": [
    "# Save the model and tokenizer\n",
    "model.save_pretrained(\"D:\\Desktop\\FakeNews\\model\")\n",
    "tokenizer.save_pretrained(\"D:\\Desktop\\FakeNews\\model\")\n"
   ]
  },
  {
   "cell_type": "code",
   "execution_count": null,
   "metadata": {},
   "outputs": [],
   "source": [
    "# TO Load it ,again .\n",
    "model = BertForSequenceClassification.from_pretrained(\"D:\\Desktop\\FakeNews\\model\")\n",
    "tokenizer = BertTokenizer.from_pretrained(\"D:\\Desktop\\FakeNews\\model\")"
   ]
  }
 ],
 "metadata": {
  "kernelspec": {
   "display_name": "Python 3",
   "language": "python",
   "name": "python3"
  },
  "language_info": {
   "codemirror_mode": {
    "name": "ipython",
    "version": 3
   },
   "file_extension": ".py",
   "mimetype": "text/x-python",
   "name": "python",
   "nbconvert_exporter": "python",
   "pygments_lexer": "ipython3",
   "version": "3.11.9"
  }
 },
 "nbformat": 4,
 "nbformat_minor": 2
}
